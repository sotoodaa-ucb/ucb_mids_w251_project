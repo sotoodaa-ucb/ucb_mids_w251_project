{
  "nbformat": 4,
  "nbformat_minor": 0,
  "metadata": {
    "colab": {
      "name": "Put Example.ipynb",
      "provenance": [],
      "collapsed_sections": [],
      "authorship_tag": "ABX9TyMo5YTDavFJnJW93FwOwLxa",
      "include_colab_link": true
    },
    "kernelspec": {
      "name": "python3",
      "display_name": "Python 3"
    },
    "language_info": {
      "name": "python"
    }
  },
  "cells": [
    {
      "cell_type": "markdown",
      "metadata": {
        "id": "view-in-github",
        "colab_type": "text"
      },
      "source": [
        "<a href=\"https://colab.research.google.com/github/sotoodaa-ucb/ucb_mids_w251_project/blob/main/notebooks/Put_Example.ipynb\" target=\"_parent\"><img src=\"https://colab.research.google.com/assets/colab-badge.svg\" alt=\"Open In Colab\"/></a>"
      ]
    },
    {
      "cell_type": "code",
      "source": [
        "import requests\n",
        "from typing import BinaryIO\n",
        "\n",
        "def send_to_s3(image: BinaryIO, classification_name: str):\n",
        "  \"\"\"\n",
        "  Function to upload binary files to S3 bucket.\n",
        "  \"\"\"\n",
        "  url = 'https://awc7c7511i.execute-api.us-west-1.amazonaws.com/dev/251-test-bucket/' + str(classification_name) + '.jpg'\n",
        "  headers = {\n",
        "      \"Content-Type\" : \"image/jpeg\"\n",
        "  }\n",
        "  data = image\n",
        "\n",
        "  r = requests.put(url, data = data, headers = headers)\n",
        "\n",
        "  return r\n",
        "  \n"
      ],
      "metadata": {
        "id": "oemTtDfGjhvg"
      },
      "execution_count": 8,
      "outputs": []
    },
    {
      "cell_type": "code",
      "source": [
        "# Does not have to be a jpeg file - for instance, this was a png file\n",
        "file_png = open(\"1st July.png\", 'rb').read()\n",
        "\n",
        "send_to_s3(file_png, \"charts\")\n",
        "\n",
        "file_jpeg = open(\"bomber.jpg\", 'rb').read()\n",
        "\n",
        "send_to_s3(file_jpeg, \"bomber\")"
      ],
      "metadata": {
        "colab": {
          "base_uri": "https://localhost:8080/"
        },
        "id": "s-3Clb9QlBUi",
        "outputId": "9d293541-09d9-484b-b123-0710ca5771c3"
      },
      "execution_count": 11,
      "outputs": [
        {
          "output_type": "execute_result",
          "data": {
            "text/plain": [
              "<Response [200]>"
            ]
          },
          "metadata": {},
          "execution_count": 11
        }
      ]
    },
    {
      "cell_type": "code",
      "source": [
        ""
      ],
      "metadata": {
        "id": "tuE94c7sl_rY"
      },
      "execution_count": null,
      "outputs": []
    }
  ]
}