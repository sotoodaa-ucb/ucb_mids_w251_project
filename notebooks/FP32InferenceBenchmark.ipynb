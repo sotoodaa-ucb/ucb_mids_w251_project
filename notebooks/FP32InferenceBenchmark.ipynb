{
 "cells": [
  {
   "cell_type": "code",
   "execution_count": 1,
   "id": "e4e7e479",
   "metadata": {},
   "outputs": [
    {
     "name": "stdout",
     "output_type": "stream",
     "text": [
      "Looking in indexes: https://pypi.org/simple, https://pypi.ngc.nvidia.com\n",
      "Obtaining file:///workspace/data\n",
      "  Installing build dependencies ... \u001b[?25ldone\n",
      "\u001b[?25h  Getting requirements to build wheel ... \u001b[?25ldone\n",
      "\u001b[?25h  Installing backend dependencies ... \u001b[?25ldone\n",
      "\u001b[?25h    Preparing wheel metadata ... \u001b[?25ldone\n",
      "\u001b[?25hInstalling collected packages: mids-plane-classification\n",
      "  Attempting uninstall: mids-plane-classification\n",
      "    Found existing installation: mids-plane-classification 0.0.1\n",
      "    Uninstalling mids-plane-classification-0.0.1:\n",
      "      Successfully uninstalled mids-plane-classification-0.0.1\n",
      "  Running setup.py develop for mids-plane-classification\n",
      "Successfully installed mids-plane-classification-0.0.1\n",
      "\u001b[33mWARNING: Running pip as the 'root' user can result in broken permissions and conflicting behaviour with the system package manager. It is recommended to use a virtual environment instead: https://pip.pypa.io/warnings/venv\u001b[0m\n",
      "Looking in indexes: https://pypi.org/simple, https://pypi.ngc.nvidia.com\n",
      "Requirement already satisfied: wget in /opt/conda/lib/python3.8/site-packages (3.2)\n",
      "\u001b[33mWARNING: Running pip as the 'root' user can result in broken permissions and conflicting behaviour with the system package manager. It is recommended to use a virtual environment instead: https://pip.pypa.io/warnings/venv\u001b[0m\n"
     ]
    }
   ],
   "source": [
    "# Installs this package locally so we can import it like any other module (see below).\n",
    "!pip install -e ..\n",
    "!pip install wget"
   ]
  },
  {
   "cell_type": "code",
   "execution_count": 2,
   "id": "1a752f7c",
   "metadata": {},
   "outputs": [
    {
     "name": "stderr",
     "output_type": "stream",
     "text": [
      "/opt/conda/lib/python3.8/site-packages/tqdm/auto.py:22: TqdmWarning: IProgress not found. Please update jupyter and ipywidgets. See https://ipywidgets.readthedocs.io/en/stable/user_install.html\n",
      "  from .autonotebook import tqdm as notebook_tqdm\n"
     ]
    }
   ],
   "source": [
    "import torch\n",
    "import numpy as np\n",
    "import matplotlib.pyplot as plt\n",
    "from mids_plane_classification.models.resnet18 import AircraftResNet18\n",
    "from mids_plane_classification.loaders.dataloader import PlaneDataModule"
   ]
  },
  {
   "cell_type": "code",
   "execution_count": 3,
   "id": "82a7f878",
   "metadata": {},
   "outputs": [
    {
     "data": {
      "text/plain": [
       "AircraftResNet18(\n",
       "  (conv1): Conv2d(3, 64, kernel_size=(7, 7), stride=(2, 2), padding=(3, 3), bias=False)\n",
       "  (bn1): BatchNorm2d(64, eps=1e-05, momentum=0.1, affine=True, track_running_stats=True)\n",
       "  (relu): ReLU(inplace=True)\n",
       "  (maxpool): MaxPool2d(kernel_size=3, stride=2, padding=1, dilation=1, ceil_mode=False)\n",
       "  (layer1): Sequential(\n",
       "    (0): BasicBlock(\n",
       "      (conv1): Conv2d(64, 64, kernel_size=(3, 3), stride=(1, 1), padding=(1, 1), bias=False)\n",
       "      (bn1): BatchNorm2d(64, eps=1e-05, momentum=0.1, affine=True, track_running_stats=True)\n",
       "      (relu): ReLU(inplace=True)\n",
       "      (conv2): Conv2d(64, 64, kernel_size=(3, 3), stride=(1, 1), padding=(1, 1), bias=False)\n",
       "      (bn2): BatchNorm2d(64, eps=1e-05, momentum=0.1, affine=True, track_running_stats=True)\n",
       "    )\n",
       "    (1): BasicBlock(\n",
       "      (conv1): Conv2d(64, 64, kernel_size=(3, 3), stride=(1, 1), padding=(1, 1), bias=False)\n",
       "      (bn1): BatchNorm2d(64, eps=1e-05, momentum=0.1, affine=True, track_running_stats=True)\n",
       "      (relu): ReLU(inplace=True)\n",
       "      (conv2): Conv2d(64, 64, kernel_size=(3, 3), stride=(1, 1), padding=(1, 1), bias=False)\n",
       "      (bn2): BatchNorm2d(64, eps=1e-05, momentum=0.1, affine=True, track_running_stats=True)\n",
       "    )\n",
       "  )\n",
       "  (layer2): Sequential(\n",
       "    (0): BasicBlock(\n",
       "      (conv1): Conv2d(64, 128, kernel_size=(3, 3), stride=(2, 2), padding=(1, 1), bias=False)\n",
       "      (bn1): BatchNorm2d(128, eps=1e-05, momentum=0.1, affine=True, track_running_stats=True)\n",
       "      (relu): ReLU(inplace=True)\n",
       "      (conv2): Conv2d(128, 128, kernel_size=(3, 3), stride=(1, 1), padding=(1, 1), bias=False)\n",
       "      (bn2): BatchNorm2d(128, eps=1e-05, momentum=0.1, affine=True, track_running_stats=True)\n",
       "      (downsample): Sequential(\n",
       "        (0): Conv2d(64, 128, kernel_size=(1, 1), stride=(2, 2), bias=False)\n",
       "        (1): BatchNorm2d(128, eps=1e-05, momentum=0.1, affine=True, track_running_stats=True)\n",
       "      )\n",
       "    )\n",
       "    (1): BasicBlock(\n",
       "      (conv1): Conv2d(128, 128, kernel_size=(3, 3), stride=(1, 1), padding=(1, 1), bias=False)\n",
       "      (bn1): BatchNorm2d(128, eps=1e-05, momentum=0.1, affine=True, track_running_stats=True)\n",
       "      (relu): ReLU(inplace=True)\n",
       "      (conv2): Conv2d(128, 128, kernel_size=(3, 3), stride=(1, 1), padding=(1, 1), bias=False)\n",
       "      (bn2): BatchNorm2d(128, eps=1e-05, momentum=0.1, affine=True, track_running_stats=True)\n",
       "    )\n",
       "  )\n",
       "  (layer3): Sequential(\n",
       "    (0): BasicBlock(\n",
       "      (conv1): Conv2d(128, 256, kernel_size=(3, 3), stride=(2, 2), padding=(1, 1), bias=False)\n",
       "      (bn1): BatchNorm2d(256, eps=1e-05, momentum=0.1, affine=True, track_running_stats=True)\n",
       "      (relu): ReLU(inplace=True)\n",
       "      (conv2): Conv2d(256, 256, kernel_size=(3, 3), stride=(1, 1), padding=(1, 1), bias=False)\n",
       "      (bn2): BatchNorm2d(256, eps=1e-05, momentum=0.1, affine=True, track_running_stats=True)\n",
       "      (downsample): Sequential(\n",
       "        (0): Conv2d(128, 256, kernel_size=(1, 1), stride=(2, 2), bias=False)\n",
       "        (1): BatchNorm2d(256, eps=1e-05, momentum=0.1, affine=True, track_running_stats=True)\n",
       "      )\n",
       "    )\n",
       "    (1): BasicBlock(\n",
       "      (conv1): Conv2d(256, 256, kernel_size=(3, 3), stride=(1, 1), padding=(1, 1), bias=False)\n",
       "      (bn1): BatchNorm2d(256, eps=1e-05, momentum=0.1, affine=True, track_running_stats=True)\n",
       "      (relu): ReLU(inplace=True)\n",
       "      (conv2): Conv2d(256, 256, kernel_size=(3, 3), stride=(1, 1), padding=(1, 1), bias=False)\n",
       "      (bn2): BatchNorm2d(256, eps=1e-05, momentum=0.1, affine=True, track_running_stats=True)\n",
       "    )\n",
       "  )\n",
       "  (layer4): Sequential(\n",
       "    (0): BasicBlock(\n",
       "      (conv1): Conv2d(256, 512, kernel_size=(3, 3), stride=(2, 2), padding=(1, 1), bias=False)\n",
       "      (bn1): BatchNorm2d(512, eps=1e-05, momentum=0.1, affine=True, track_running_stats=True)\n",
       "      (relu): ReLU(inplace=True)\n",
       "      (conv2): Conv2d(512, 512, kernel_size=(3, 3), stride=(1, 1), padding=(1, 1), bias=False)\n",
       "      (bn2): BatchNorm2d(512, eps=1e-05, momentum=0.1, affine=True, track_running_stats=True)\n",
       "      (downsample): Sequential(\n",
       "        (0): Conv2d(256, 512, kernel_size=(1, 1), stride=(2, 2), bias=False)\n",
       "        (1): BatchNorm2d(512, eps=1e-05, momentum=0.1, affine=True, track_running_stats=True)\n",
       "      )\n",
       "    )\n",
       "    (1): BasicBlock(\n",
       "      (conv1): Conv2d(512, 512, kernel_size=(3, 3), stride=(1, 1), padding=(1, 1), bias=False)\n",
       "      (bn1): BatchNorm2d(512, eps=1e-05, momentum=0.1, affine=True, track_running_stats=True)\n",
       "      (relu): ReLU(inplace=True)\n",
       "      (conv2): Conv2d(512, 512, kernel_size=(3, 3), stride=(1, 1), padding=(1, 1), bias=False)\n",
       "      (bn2): BatchNorm2d(512, eps=1e-05, momentum=0.1, affine=True, track_running_stats=True)\n",
       "    )\n",
       "  )\n",
       "  (avgpool): AdaptiveAvgPool2d(output_size=(1, 1))\n",
       "  (fc): Linear(in_features=512, out_features=11, bias=True)\n",
       ")"
      ]
     },
     "execution_count": 3,
     "metadata": {},
     "output_type": "execute_result"
    }
   ],
   "source": [
    "# Instantiate the custom model.\n",
    "model = AircraftResNet18()\n",
    "\n",
    "# Load from the checkpoint.\n",
    "checkpoint = torch.load(\"../mids_plane_classification/models/checkpoints/model_best.pth.tar\", map_location=torch.device('cpu'))\n",
    "\n",
    "# Load from the state dict.\n",
    "model.load_state_dict(checkpoint['state_dict'])\n",
    "\n",
    "# Set model to evaluation mode.\n",
    "model.eval()"
   ]
  },
  {
   "cell_type": "code",
   "execution_count": 4,
   "id": "a5742172",
   "metadata": {},
   "outputs": [],
   "source": [
    "dm = PlaneDataModule(train_batch_size=32, val_batch_size=32, data_dir='../data', seed=2)\n",
    "dm.prepare_data()\n",
    "dm.setup()\n",
    "classes = dm.dataset.classes"
   ]
  },
  {
   "cell_type": "code",
   "execution_count": 5,
   "id": "52bac82b",
   "metadata": {},
   "outputs": [],
   "source": [
    "import torch.backends.cudnn as cudnn\n",
    "cudnn.benchmark = True\n",
    "\n",
    "# decode the results into ([predicted class, description], probability)\n",
    "def predict(input_tensor, model):\n",
    "    input_batch = input_tensor.unsqueeze(0)\n",
    "    # move the input and model to GPU for speed if available\n",
    "    if torch.cuda.is_available():\n",
    "        input_batch = input_batch.to('cuda')\n",
    "        model.to('cuda')\n",
    "\n",
    "    with torch.no_grad():\n",
    "        output = model(input_batch)\n",
    "        sm_output = torch.nn.functional.softmax(output[0], dim=0)\n",
    "    ind = torch.argmax(sm_output)\n",
    "    return str(ind.item()), sm_output[ind] #([predicted class, description], probability)\n",
    "\n",
    "def benchmark(model, input_shape=(32, 1, 256, 256), dtype='fp32', nwarmup=50, nruns=10000):\n",
    "    input_data = torch.randn(input_shape)\n",
    "    input_data = input_data.to(\"cuda\")\n",
    "    if dtype=='fp16':\n",
    "        input_data = input_data.half()\n",
    "        \n",
    "    print(\"Warm up ...\")\n",
    "    with torch.no_grad():\n",
    "        for _ in range(nwarmup):\n",
    "            features = model(input_data)\n",
    "    torch.cuda.synchronize()\n",
    "    print(\"Start timing ...\")\n",
    "    timings = []\n",
    "    with torch.no_grad():\n",
    "        for i in range(1, nruns+1):\n",
    "            start_time = time.time()\n",
    "            features = model(input_data)\n",
    "            torch.cuda.synchronize()\n",
    "            end_time = time.time()\n",
    "            timings.append(end_time - start_time)\n",
    "            if i%10==0:\n",
    "                print('Iteration %d/%d, avg batch time %.2f ms'%(i, nruns, np.mean(timings)*1000))\n",
    "\n",
    "    print(\"Input shape:\", input_data.size())\n",
    "    print(\"Output features size:\", features.size())\n",
    "    print('Average throughput: %.2f images/second'%(input_shape[0]/np.mean(timings)))"
   ]
  },
  {
   "cell_type": "code",
   "execution_count": 6,
   "id": "10801abd",
   "metadata": {},
   "outputs": [],
   "source": [
    "import time\n",
    "import json"
   ]
  },
  {
   "cell_type": "markdown",
   "id": "c25da1e6",
   "metadata": {},
   "source": [
    "# convert the model"
   ]
  },
  {
   "cell_type": "code",
   "execution_count": 9,
   "id": "220f82f3",
   "metadata": {},
   "outputs": [],
   "source": [
    "import torch\n",
    "import torch_tensorrt"
   ]
  },
  {
   "cell_type": "code",
   "execution_count": 10,
   "id": "bcabbb19",
   "metadata": {},
   "outputs": [
    {
     "name": "stderr",
     "output_type": "stream",
     "text": [
      "WARNING: [Torch-TensorRT] - Dilation not used in Max pooling converter\n"
     ]
    }
   ],
   "source": [
    "trt_model_fp32 = torch_tensorrt.compile(model, inputs = [torch_tensorrt.Input((32, 3, 256, 256), dtype=torch.float32)],\n",
    "    enabled_precisions = torch.float32, # Run with FP32\n",
    "    workspace_size = 1 << 22\n",
    ")\n"
   ]
  },
  {
   "cell_type": "code",
   "execution_count": 11,
   "id": "d4b12b49",
   "metadata": {},
   "outputs": [
    {
     "name": "stderr",
     "output_type": "stream",
     "text": [
      "ERROR: [Torch-TensorRT] - 3: [executionContext.cpp::setBindingDimensions::947] Error Code 3: API Usage Error (Parameter check failed at: runtime/api/executionContext.cpp::setBindingDimensions::947, condition: profileMinDims.d[i] <= dimensions.d[i]. Supplied binding dimension [1,3,256,256] for bindings[0] exceed min ~ max range at index 0, maximum dimension in profile is 32, minimum dimension in profile is 32, but supplied dimension is 1.\n",
      ")\n",
      "ERROR: [Torch-TensorRT] - 3: [executionContext.cpp::setBindingDimensions::947] Error Code 3: API Usage Error (Parameter check failed at: runtime/api/executionContext.cpp::setBindingDimensions::947, condition: profileMinDims.d[i] <= dimensions.d[i]. Supplied binding dimension [1,3,256,256] for bindings[0] exceed min ~ max range at index 0, maximum dimension in profile is 32, minimum dimension in profile is 32, but supplied dimension is 1.\n",
      ")\n",
      "ERROR: [Torch-TensorRT] - 3: [executionContext.cpp::setBindingDimensions::947] Error Code 3: API Usage Error (Parameter check failed at: runtime/api/executionContext.cpp::setBindingDimensions::947, condition: profileMinDims.d[i] <= dimensions.d[i]. Supplied binding dimension [1,3,256,256] for bindings[0] exceed min ~ max range at index 0, maximum dimension in profile is 32, minimum dimension in profile is 32, but supplied dimension is 1.\n",
      ")\n",
      "ERROR: [Torch-TensorRT] - 3: [executionContext.cpp::setBindingDimensions::947] Error Code 3: API Usage Error (Parameter check failed at: runtime/api/executionContext.cpp::setBindingDimensions::947, condition: profileMinDims.d[i] <= dimensions.d[i]. Supplied binding dimension [1,3,256,256] for bindings[0] exceed min ~ max range at index 0, maximum dimension in profile is 32, minimum dimension in profile is 32, but supplied dimension is 1.\n",
      ")\n"
     ]
    },
    {
     "name": "stdout",
     "output_type": "stream",
     "text": [
      "('7', tensor(0.9999, device='cuda:0'))\n",
      "('2', tensor(0.9996, device='cuda:0'))\n",
      "('5', tensor(0.9993, device='cuda:0'))\n",
      "('6', tensor(0.9947, device='cuda:0'))\n",
      "('2', tensor(1.0000, device='cuda:0'))\n"
     ]
    },
    {
     "name": "stderr",
     "output_type": "stream",
     "text": [
      "ERROR: [Torch-TensorRT] - 3: [executionContext.cpp::setBindingDimensions::947] Error Code 3: API Usage Error (Parameter check failed at: runtime/api/executionContext.cpp::setBindingDimensions::947, condition: profileMinDims.d[i] <= dimensions.d[i]. Supplied binding dimension [1,3,256,256] for bindings[0] exceed min ~ max range at index 0, maximum dimension in profile is 32, minimum dimension in profile is 32, but supplied dimension is 1.\n",
      ")\n",
      "ERROR: [Torch-TensorRT] - 3: [executionContext.cpp::setBindingDimensions::947] Error Code 3: API Usage Error (Parameter check failed at: runtime/api/executionContext.cpp::setBindingDimensions::947, condition: profileMinDims.d[i] <= dimensions.d[i]. Supplied binding dimension [1,3,256,256] for bindings[0] exceed min ~ max range at index 0, maximum dimension in profile is 32, minimum dimension in profile is 32, but supplied dimension is 1.\n",
      ")\n",
      "ERROR: [Torch-TensorRT] - 3: [executionContext.cpp::setBindingDimensions::947] Error Code 3: API Usage Error (Parameter check failed at: runtime/api/executionContext.cpp::setBindingDimensions::947, condition: profileMinDims.d[i] <= dimensions.d[i]. Supplied binding dimension [1,3,256,256] for bindings[0] exceed min ~ max range at index 0, maximum dimension in profile is 32, minimum dimension in profile is 32, but supplied dimension is 1.\n",
      ")\n",
      "ERROR: [Torch-TensorRT] - 3: [executionContext.cpp::setBindingDimensions::947] Error Code 3: API Usage Error (Parameter check failed at: runtime/api/executionContext.cpp::setBindingDimensions::947, condition: profileMinDims.d[i] <= dimensions.d[i]. Supplied binding dimension [1,3,256,256] for bindings[0] exceed min ~ max range at index 0, maximum dimension in profile is 32, minimum dimension in profile is 32, but supplied dimension is 1.\n",
      ")\n",
      "ERROR: [Torch-TensorRT] - 3: [executionContext.cpp::setBindingDimensions::947] Error Code 3: API Usage Error (Parameter check failed at: runtime/api/executionContext.cpp::setBindingDimensions::947, condition: profileMinDims.d[i] <= dimensions.d[i]. Supplied binding dimension [1,3,256,256] for bindings[0] exceed min ~ max range at index 0, maximum dimension in profile is 32, minimum dimension in profile is 32, but supplied dimension is 1.\n",
      ")\n",
      "ERROR: [Torch-TensorRT] - 3: [executionContext.cpp::setBindingDimensions::947] Error Code 3: API Usage Error (Parameter check failed at: runtime/api/executionContext.cpp::setBindingDimensions::947, condition: profileMinDims.d[i] <= dimensions.d[i]. Supplied binding dimension [1,3,256,256] for bindings[0] exceed min ~ max range at index 0, maximum dimension in profile is 32, minimum dimension in profile is 32, but supplied dimension is 1.\n",
      ")\n",
      "ERROR: [Torch-TensorRT] - 3: [executionContext.cpp::setBindingDimensions::947] Error Code 3: API Usage Error (Parameter check failed at: runtime/api/executionContext.cpp::setBindingDimensions::947, condition: profileMinDims.d[i] <= dimensions.d[i]. Supplied binding dimension [1,3,256,256] for bindings[0] exceed min ~ max range at index 0, maximum dimension in profile is 32, minimum dimension in profile is 32, but supplied dimension is 1.\n",
      ")\n",
      "ERROR: [Torch-TensorRT] - 3: [executionContext.cpp::setBindingDimensions::947] Error Code 3: API Usage Error (Parameter check failed at: runtime/api/executionContext.cpp::setBindingDimensions::947, condition: profileMinDims.d[i] <= dimensions.d[i]. Supplied binding dimension [1,3,256,256] for bindings[0] exceed min ~ max range at index 0, maximum dimension in profile is 32, minimum dimension in profile is 32, but supplied dimension is 1.\n",
      ")\n"
     ]
    },
    {
     "name": "stdout",
     "output_type": "stream",
     "text": [
      "('3', tensor(0.9981, device='cuda:0'))\n",
      "('0', tensor(1.0000, device='cuda:0'))\n",
      "('3', tensor(0.9483, device='cuda:0'))\n",
      "('0', tensor(0.9947, device='cuda:0'))\n",
      "('8', tensor(0.9944, device='cuda:0'))\n",
      "('2', tensor(0.9842, device='cuda:0'))\n",
      "('4', tensor(0.9995, device='cuda:0'))\n",
      "('1', tensor(0.9999, device='cuda:0'))\n"
     ]
    },
    {
     "name": "stderr",
     "output_type": "stream",
     "text": [
      "ERROR: [Torch-TensorRT] - 3: [executionContext.cpp::setBindingDimensions::947] Error Code 3: API Usage Error (Parameter check failed at: runtime/api/executionContext.cpp::setBindingDimensions::947, condition: profileMinDims.d[i] <= dimensions.d[i]. Supplied binding dimension [1,3,256,256] for bindings[0] exceed min ~ max range at index 0, maximum dimension in profile is 32, minimum dimension in profile is 32, but supplied dimension is 1.\n",
      ")\n",
      "ERROR: [Torch-TensorRT] - 3: [executionContext.cpp::setBindingDimensions::947] Error Code 3: API Usage Error (Parameter check failed at: runtime/api/executionContext.cpp::setBindingDimensions::947, condition: profileMinDims.d[i] <= dimensions.d[i]. Supplied binding dimension [1,3,256,256] for bindings[0] exceed min ~ max range at index 0, maximum dimension in profile is 32, minimum dimension in profile is 32, but supplied dimension is 1.\n",
      ")\n",
      "ERROR: [Torch-TensorRT] - 3: [executionContext.cpp::setBindingDimensions::947] Error Code 3: API Usage Error (Parameter check failed at: runtime/api/executionContext.cpp::setBindingDimensions::947, condition: profileMinDims.d[i] <= dimensions.d[i]. Supplied binding dimension [1,3,256,256] for bindings[0] exceed min ~ max range at index 0, maximum dimension in profile is 32, minimum dimension in profile is 32, but supplied dimension is 1.\n",
      ")\n",
      "ERROR: [Torch-TensorRT] - 3: [executionContext.cpp::setBindingDimensions::947] Error Code 3: API Usage Error (Parameter check failed at: runtime/api/executionContext.cpp::setBindingDimensions::947, condition: profileMinDims.d[i] <= dimensions.d[i]. Supplied binding dimension [1,3,256,256] for bindings[0] exceed min ~ max range at index 0, maximum dimension in profile is 32, minimum dimension in profile is 32, but supplied dimension is 1.\n",
      ")\n",
      "ERROR: [Torch-TensorRT] - 3: [executionContext.cpp::setBindingDimensions::947] Error Code 3: API Usage Error (Parameter check failed at: runtime/api/executionContext.cpp::setBindingDimensions::947, condition: profileMinDims.d[i] <= dimensions.d[i]. Supplied binding dimension [1,3,256,256] for bindings[0] exceed min ~ max range at index 0, maximum dimension in profile is 32, minimum dimension in profile is 32, but supplied dimension is 1.\n",
      ")\n",
      "ERROR: [Torch-TensorRT] - 3: [executionContext.cpp::setBindingDimensions::947] Error Code 3: API Usage Error (Parameter check failed at: runtime/api/executionContext.cpp::setBindingDimensions::947, condition: profileMinDims.d[i] <= dimensions.d[i]. Supplied binding dimension [1,3,256,256] for bindings[0] exceed min ~ max range at index 0, maximum dimension in profile is 32, minimum dimension in profile is 32, but supplied dimension is 1.\n",
      ")\n",
      "ERROR: [Torch-TensorRT] - 3: [executionContext.cpp::setBindingDimensions::947] Error Code 3: API Usage Error (Parameter check failed at: runtime/api/executionContext.cpp::setBindingDimensions::947, condition: profileMinDims.d[i] <= dimensions.d[i]. Supplied binding dimension [1,3,256,256] for bindings[0] exceed min ~ max range at index 0, maximum dimension in profile is 32, minimum dimension in profile is 32, but supplied dimension is 1.\n",
      ")\n",
      "ERROR: [Torch-TensorRT] - 3: [executionContext.cpp::setBindingDimensions::947] Error Code 3: API Usage Error (Parameter check failed at: runtime/api/executionContext.cpp::setBindingDimensions::947, condition: profileMinDims.d[i] <= dimensions.d[i]. Supplied binding dimension [1,3,256,256] for bindings[0] exceed min ~ max range at index 0, maximum dimension in profile is 32, minimum dimension in profile is 32, but supplied dimension is 1.\n",
      ")\n"
     ]
    },
    {
     "name": "stdout",
     "output_type": "stream",
     "text": [
      "('6', tensor(1.0000, device='cuda:0'))\n",
      "('3', tensor(0.9985, device='cuda:0'))\n",
      "('2', tensor(1.0000, device='cuda:0'))\n",
      "('9', tensor(0.9999, device='cuda:0'))\n",
      "('3', tensor(0.5646, device='cuda:0'))\n",
      "('0', tensor(0.9999, device='cuda:0'))\n",
      "('4', tensor(0.3823, device='cuda:0'))\n",
      "('4', tensor(0.9642, device='cuda:0'))\n"
     ]
    },
    {
     "name": "stderr",
     "output_type": "stream",
     "text": [
      "ERROR: [Torch-TensorRT] - 3: [executionContext.cpp::setBindingDimensions::947] Error Code 3: API Usage Error (Parameter check failed at: runtime/api/executionContext.cpp::setBindingDimensions::947, condition: profileMinDims.d[i] <= dimensions.d[i]. Supplied binding dimension [1,3,256,256] for bindings[0] exceed min ~ max range at index 0, maximum dimension in profile is 32, minimum dimension in profile is 32, but supplied dimension is 1.\n",
      ")\n",
      "ERROR: [Torch-TensorRT] - 3: [executionContext.cpp::setBindingDimensions::947] Error Code 3: API Usage Error (Parameter check failed at: runtime/api/executionContext.cpp::setBindingDimensions::947, condition: profileMinDims.d[i] <= dimensions.d[i]. Supplied binding dimension [1,3,256,256] for bindings[0] exceed min ~ max range at index 0, maximum dimension in profile is 32, minimum dimension in profile is 32, but supplied dimension is 1.\n",
      ")\n",
      "ERROR: [Torch-TensorRT] - 3: [executionContext.cpp::setBindingDimensions::947] Error Code 3: API Usage Error (Parameter check failed at: runtime/api/executionContext.cpp::setBindingDimensions::947, condition: profileMinDims.d[i] <= dimensions.d[i]. Supplied binding dimension [1,3,256,256] for bindings[0] exceed min ~ max range at index 0, maximum dimension in profile is 32, minimum dimension in profile is 32, but supplied dimension is 1.\n",
      ")\n",
      "ERROR: [Torch-TensorRT] - 3: [executionContext.cpp::setBindingDimensions::947] Error Code 3: API Usage Error (Parameter check failed at: runtime/api/executionContext.cpp::setBindingDimensions::947, condition: profileMinDims.d[i] <= dimensions.d[i]. Supplied binding dimension [1,3,256,256] for bindings[0] exceed min ~ max range at index 0, maximum dimension in profile is 32, minimum dimension in profile is 32, but supplied dimension is 1.\n",
      ")\n",
      "ERROR: [Torch-TensorRT] - 3: [executionContext.cpp::setBindingDimensions::947] Error Code 3: API Usage Error (Parameter check failed at: runtime/api/executionContext.cpp::setBindingDimensions::947, condition: profileMinDims.d[i] <= dimensions.d[i]. Supplied binding dimension [1,3,256,256] for bindings[0] exceed min ~ max range at index 0, maximum dimension in profile is 32, minimum dimension in profile is 32, but supplied dimension is 1.\n",
      ")\n",
      "ERROR: [Torch-TensorRT] - 3: [executionContext.cpp::setBindingDimensions::947] Error Code 3: API Usage Error (Parameter check failed at: runtime/api/executionContext.cpp::setBindingDimensions::947, condition: profileMinDims.d[i] <= dimensions.d[i]. Supplied binding dimension [1,3,256,256] for bindings[0] exceed min ~ max range at index 0, maximum dimension in profile is 32, minimum dimension in profile is 32, but supplied dimension is 1.\n",
      ")\n",
      "ERROR: [Torch-TensorRT] - 3: [executionContext.cpp::setBindingDimensions::947] Error Code 3: API Usage Error (Parameter check failed at: runtime/api/executionContext.cpp::setBindingDimensions::947, condition: profileMinDims.d[i] <= dimensions.d[i]. Supplied binding dimension [1,3,256,256] for bindings[0] exceed min ~ max range at index 0, maximum dimension in profile is 32, minimum dimension in profile is 32, but supplied dimension is 1.\n",
      ")\n",
      "ERROR: [Torch-TensorRT] - 3: [executionContext.cpp::setBindingDimensions::947] Error Code 3: API Usage Error (Parameter check failed at: runtime/api/executionContext.cpp::setBindingDimensions::947, condition: profileMinDims.d[i] <= dimensions.d[i]. Supplied binding dimension [1,3,256,256] for bindings[0] exceed min ~ max range at index 0, maximum dimension in profile is 32, minimum dimension in profile is 32, but supplied dimension is 1.\n",
      ")\n"
     ]
    },
    {
     "name": "stdout",
     "output_type": "stream",
     "text": [
      "('4', tensor(0.9999, device='cuda:0'))\n",
      "('0', tensor(1.0000, device='cuda:0'))\n",
      "('4', tensor(0.9995, device='cuda:0'))\n",
      "('6', tensor(0.9980, device='cuda:0'))\n",
      "('5', tensor(0.9999, device='cuda:0'))\n",
      "('8', tensor(0.9998, device='cuda:0'))\n",
      "('10', tensor(0.3781, device='cuda:0'))\n",
      "('5', tensor(0.9972, device='cuda:0'))\n",
      "('0', tensor(1.0000, device='cuda:0'))\n",
      "('10', tensor(0.6095, device='cuda:0'))\n",
      "('2', tensor(0.9918, device='cuda:0'))\n"
     ]
    },
    {
     "name": "stderr",
     "output_type": "stream",
     "text": [
      "ERROR: [Torch-TensorRT] - 3: [executionContext.cpp::setBindingDimensions::947] Error Code 3: API Usage Error (Parameter check failed at: runtime/api/executionContext.cpp::setBindingDimensions::947, condition: profileMinDims.d[i] <= dimensions.d[i]. Supplied binding dimension [1,3,256,256] for bindings[0] exceed min ~ max range at index 0, maximum dimension in profile is 32, minimum dimension in profile is 32, but supplied dimension is 1.\n",
      ")\n",
      "ERROR: [Torch-TensorRT] - 3: [executionContext.cpp::setBindingDimensions::947] Error Code 3: API Usage Error (Parameter check failed at: runtime/api/executionContext.cpp::setBindingDimensions::947, condition: profileMinDims.d[i] <= dimensions.d[i]. Supplied binding dimension [1,3,256,256] for bindings[0] exceed min ~ max range at index 0, maximum dimension in profile is 32, minimum dimension in profile is 32, but supplied dimension is 1.\n",
      ")\n",
      "ERROR: [Torch-TensorRT] - 3: [executionContext.cpp::setBindingDimensions::947] Error Code 3: API Usage Error (Parameter check failed at: runtime/api/executionContext.cpp::setBindingDimensions::947, condition: profileMinDims.d[i] <= dimensions.d[i]. Supplied binding dimension [1,3,256,256] for bindings[0] exceed min ~ max range at index 0, maximum dimension in profile is 32, minimum dimension in profile is 32, but supplied dimension is 1.\n",
      ")\n",
      "ERROR: [Torch-TensorRT] - 3: [executionContext.cpp::setBindingDimensions::947] Error Code 3: API Usage Error (Parameter check failed at: runtime/api/executionContext.cpp::setBindingDimensions::947, condition: profileMinDims.d[i] <= dimensions.d[i]. Supplied binding dimension [1,3,256,256] for bindings[0] exceed min ~ max range at index 0, maximum dimension in profile is 32, minimum dimension in profile is 32, but supplied dimension is 1.\n",
      ")\n"
     ]
    }
   ],
   "source": [
    "\n",
    "image_count = 32\n",
    "for idx in range(image_count):\n",
    "    print(predict(dm.val_dataset[idx][0],trt_model_fp32))"
   ]
  },
  {
   "cell_type": "code",
   "execution_count": 12,
   "id": "57a2e5f3",
   "metadata": {},
   "outputs": [
    {
     "name": "stdout",
     "output_type": "stream",
     "text": [
      "Warm up ...\n",
      "Start timing ...\n",
      "Iteration 10/100, avg batch time 27.29 ms\n",
      "Iteration 20/100, avg batch time 27.39 ms\n",
      "Iteration 30/100, avg batch time 27.41 ms\n",
      "Iteration 40/100, avg batch time 27.49 ms\n",
      "Iteration 50/100, avg batch time 27.51 ms\n",
      "Iteration 60/100, avg batch time 27.47 ms\n",
      "Iteration 70/100, avg batch time 27.47 ms\n",
      "Iteration 80/100, avg batch time 27.44 ms\n",
      "Iteration 90/100, avg batch time 27.45 ms\n",
      "Iteration 100/100, avg batch time 27.45 ms\n",
      "Input shape: torch.Size([32, 3, 256, 256])\n",
      "Output features size: torch.Size([32, 11])\n",
      "Average throughput: 1165.63 images/second\n"
     ]
    }
   ],
   "source": [
    "benchmark(trt_model_fp32, input_shape=(32, 3, 256, 256), nruns=100)"
   ]
  },
  {
   "cell_type": "code",
   "execution_count": 14,
   "id": "5b8a3344",
   "metadata": {},
   "outputs": [
    {
     "name": "stdout",
     "output_type": "stream",
     "text": [
      "Warm up ...\n",
      "Start timing ...\n",
      "Iteration 10/100, avg batch time 30.39 ms\n",
      "Iteration 20/100, avg batch time 30.42 ms\n",
      "Iteration 30/100, avg batch time 30.35 ms\n",
      "Iteration 40/100, avg batch time 30.32 ms\n",
      "Iteration 50/100, avg batch time 30.39 ms\n",
      "Iteration 60/100, avg batch time 30.39 ms\n",
      "Iteration 70/100, avg batch time 30.36 ms\n",
      "Iteration 80/100, avg batch time 30.37 ms\n",
      "Iteration 90/100, avg batch time 30.38 ms\n",
      "Iteration 100/100, avg batch time 30.37 ms\n",
      "Input shape: torch.Size([32, 3, 256, 256])\n",
      "Output features size: torch.Size([32, 11])\n",
      "Average throughput: 1053.57 images/second\n"
     ]
    }
   ],
   "source": [
    "model.eval().cuda()\n",
    "benchmark(model, input_shape=(32, 3, 256, 256), nruns=100)"
   ]
  }
 ],
 "metadata": {
  "kernelspec": {
   "display_name": "Python 3 (ipykernel)",
   "language": "python",
   "name": "python3"
  },
  "language_info": {
   "codemirror_mode": {
    "name": "ipython",
    "version": 3
   },
   "file_extension": ".py",
   "mimetype": "text/x-python",
   "name": "python",
   "nbconvert_exporter": "python",
   "pygments_lexer": "ipython3",
   "version": "3.8.13"
  }
 },
 "nbformat": 4,
 "nbformat_minor": 5
}
