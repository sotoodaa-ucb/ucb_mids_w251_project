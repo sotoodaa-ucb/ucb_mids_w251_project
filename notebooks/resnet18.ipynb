{
 "cells": [
  {
   "cell_type": "markdown",
   "id": "7498dffe",
   "metadata": {
    "colab_type": "text",
    "id": "view-in-github"
   },
   "source": [
    "<a href=\"https://colab.research.google.com/github/zachlim98/w251-submissions/blob/main/hw05/lab05.ipynb\" target=\"_parent\"><img src=\"https://colab.research.google.com/assets/colab-badge.svg\" alt=\"Open In Colab\"/></a>"
   ]
  },
  {
   "cell_type": "code",
   "execution_count": 1,
   "id": "ef5c41b8",
   "metadata": {},
   "outputs": [
    {
     "name": "stdout",
     "output_type": "stream",
     "text": [
      "Looking in indexes: https://pypi.org/simple, https://pypi.ngc.nvidia.com\n",
      "Obtaining file:///workspace/data/ucb_mids_w251_project\n",
      "  Installing build dependencies ... \u001b[?25ldone\n",
      "\u001b[?25h  Getting requirements to build wheel ... \u001b[?25ldone\n",
      "\u001b[?25h  Installing backend dependencies ... \u001b[?25ldone\n",
      "\u001b[?25h    Preparing wheel metadata ... \u001b[?25ldone\n",
      "\u001b[?25hInstalling collected packages: mids-plane-classification\n",
      "  Attempting uninstall: mids-plane-classification\n",
      "    Found existing installation: mids-plane-classification 0.0.1\n",
      "    Uninstalling mids-plane-classification-0.0.1:\n",
      "      Successfully uninstalled mids-plane-classification-0.0.1\n",
      "  Running setup.py develop for mids-plane-classification\n",
      "Successfully installed mids-plane-classification-0.0.1\n",
      "\u001b[33mWARNING: Running pip as the 'root' user can result in broken permissions and conflicting behaviour with the system package manager. It is recommended to use a virtual environment instead: https://pip.pypa.io/warnings/venv\u001b[0m\n"
     ]
    }
   ],
   "source": [
    "# Installs this package locally so we can import it like any other module (see below).\n",
    "!pip install -e .."
   ]
  },
  {
   "cell_type": "code",
   "execution_count": 2,
   "id": "48ff70fc",
   "metadata": {},
   "outputs": [
    {
     "name": "stderr",
     "output_type": "stream",
     "text": [
      "/opt/conda/lib/python3.8/site-packages/tqdm/auto.py:22: TqdmWarning: IProgress not found. Please update jupyter and ipywidgets. See https://ipywidgets.readthedocs.io/en/stable/user_install.html\n",
      "  from .autonotebook import tqdm as notebook_tqdm\n"
     ]
    }
   ],
   "source": [
    "import pandas as pd\n",
    "import matplotlib.pyplot as plt\n",
    "import numpy as np\n",
    "from mids_plane_classification.loaders.dataloader import PlaneDataModule"
   ]
  },
  {
   "cell_type": "code",
   "execution_count": 3,
   "id": "104397a3",
   "metadata": {
    "id": "cace261f"
   },
   "outputs": [],
   "source": [
    "import os\n",
    "import random\n",
    "import shutil\n",
    "import time\n",
    "import warnings\n",
    "\n",
    "import torch\n",
    "import torch.nn as nn\n",
    "import torch.backends.cudnn as cudnn\n",
    "import torch.optim\n",
    "\n",
    "import torch.utils.data\n",
    "import torch.utils.data.distributed\n",
    "import torchvision\n",
    "import torchvision.transforms as transforms\n",
    "import torchvision.datasets as datasets\n",
    "import torchvision.models as models\n",
    "\n",
    "from torch.cuda.amp import GradScaler\n",
    "from torch.cuda.amp import autocast"
   ]
  },
  {
   "cell_type": "code",
   "execution_count": 4,
   "id": "184af374",
   "metadata": {},
   "outputs": [
    {
     "name": "stdout",
     "output_type": "stream",
     "text": [
      "Downloading: 100% [470582946 / 470582946] bytes"
     ]
    }
   ],
   "source": [
    "# Import the data and set it up. If this is the first time running this, please use\n",
    "# dm.prepare_data()\n",
    "dm = PlaneDataModule(train_batch_size=32, val_batch_size=32, data_dir='../data', seed=2)\n",
    "dm.setup()"
   ]
  },
  {
   "cell_type": "code",
   "execution_count": 7,
   "id": "1a0743e2",
   "metadata": {},
   "outputs": [
    {
     "name": "stderr",
     "output_type": "stream",
     "text": [
      "\u001b[34m\u001b[1mwandb\u001b[0m: Logging into wandb.ai. (Learn how to deploy a W&B server locally: https://wandb.me/wandb-server)\n",
      "\u001b[34m\u001b[1mwandb\u001b[0m: You can find your API key in your browser here: https://wandb.ai/authorize\n"
     ]
    },
    {
     "name": "stdin",
     "output_type": "stream",
     "text": [
      "\u001b[34m\u001b[1mwandb\u001b[0m: Paste an API key from your profile and hit enter, or press ctrl+c to quit:  ········································\n"
     ]
    },
    {
     "name": "stderr",
     "output_type": "stream",
     "text": [
      "\u001b[34m\u001b[1mwandb\u001b[0m: Appending key for api.wandb.ai to your netrc file: /root/.netrc\n",
      "\u001b[34m\u001b[1mwandb\u001b[0m: Currently logged in as: \u001b[33mzachlim\u001b[0m (\u001b[33m251-summer-22\u001b[0m). Use \u001b[1m`wandb login --relogin`\u001b[0m to force relogin\n"
     ]
    },
    {
     "data": {
      "text/html": [
       "Tracking run with wandb version 0.12.18"
      ],
      "text/plain": [
       "<IPython.core.display.HTML object>"
      ]
     },
     "metadata": {},
     "output_type": "display_data"
    },
    {
     "data": {
      "text/html": [
       "Run data is saved locally in <code>/workspace/data/ucb_mids_w251_project/notebooks/wandb/run-20220621_033428-b92xpa17</code>"
      ],
      "text/plain": [
       "<IPython.core.display.HTML object>"
      ]
     },
     "metadata": {},
     "output_type": "display_data"
    },
    {
     "data": {
      "text/html": [
       "Syncing run <strong><a href=\"https://wandb.ai/251-summer-22/W251-Draft-Models/runs/b92xpa17\" target=\"_blank\">lemon-bush-1</a></strong> to <a href=\"https://wandb.ai/251-summer-22/W251-Draft-Models\" target=\"_blank\">Weights & Biases</a> (<a href=\"https://wandb.me/run\" target=\"_blank\">docs</a>)<br/>"
      ],
      "text/plain": [
       "<IPython.core.display.HTML object>"
      ]
     },
     "metadata": {},
     "output_type": "display_data"
    },
    {
     "data": {
      "text/html": [
       "<button onClick=\"this.nextSibling.style.display='block';this.style.display='none';\">Display W&B run</button><iframe src=\"https://wandb.ai/251-summer-22/W251-Draft-Models/runs/b92xpa17?jupyter=true\" style=\"border:none;width:100%;height:420px;display:none;\"></iframe>"
      ],
      "text/plain": [
       "<wandb.sdk.wandb_run.Run at 0x7f39b81e43d0>"
      ]
     },
     "execution_count": 7,
     "metadata": {},
     "output_type": "execute_result"
    }
   ],
   "source": [
    "import wandb\n",
    "\n",
    "wandb.login()\n",
    "wandb.init(project=\"W251-Draft-Models\", entity=\"251-summer-22\")"
   ]
  },
  {
   "cell_type": "code",
   "execution_count": 8,
   "id": "11d0813b",
   "metadata": {},
   "outputs": [],
   "source": [
    "GPU=0"
   ]
  },
  {
   "cell_type": "code",
   "execution_count": 9,
   "id": "f5ef238d",
   "metadata": {
    "id": "d693cd6c"
   },
   "outputs": [],
   "source": [
    "SEED=1"
   ]
  },
  {
   "cell_type": "code",
   "execution_count": 10,
   "id": "a77672f3",
   "metadata": {
    "id": "363e2b75"
   },
   "outputs": [],
   "source": [
    "random.seed(SEED)\n",
    "torch.manual_seed(SEED)\n",
    "cudnn.deterministic = True"
   ]
  },
  {
   "cell_type": "code",
   "execution_count": 11,
   "id": "7e8d84af",
   "metadata": {},
   "outputs": [
    {
     "data": {
      "text/plain": [
       "1"
      ]
     },
     "execution_count": 11,
     "metadata": {},
     "output_type": "execute_result"
    }
   ],
   "source": [
    "torch.cuda.device_count()"
   ]
  },
  {
   "cell_type": "markdown",
   "id": "286a7e14",
   "metadata": {
    "id": "c8ec40e9"
   },
   "source": [
    "### Set the architecture to resnet 18 below"
   ]
  },
  {
   "cell_type": "code",
   "execution_count": 12,
   "id": "74eb3095",
   "metadata": {
    "id": "97b1a0aa",
    "tags": [
     "parameters"
    ]
   },
   "outputs": [],
   "source": [
    "##########################\n",
    "ARCH = 'resnet18' # set the architecture to RESNET 18\n",
    "# please look up how to do that\n",
    "########################\n",
    "EPOCHS = 2\n",
    "LR = 0.1\n",
    "MOMENTUM = 0.9\n",
    "WEIGHT_DECAY = 1e-4\n",
    "PRINT_FREQ = 50\n",
    "TRAIN_BATCH=32\n",
    "VAL_BATCH=32\n",
    "WORKERS=2\n",
    "START_EPOCH=0\n",
    "\n",
    "#config for wandb\n",
    "wandb.config = {\n",
    "  \"learning_rate\": LR,\n",
    "  \"epochs\": EPOCHS,\n",
    "  \"batch_size\": TRAIN_BATCH,\n",
    "    \"arch\": ARCH\n",
    "}"
   ]
  },
  {
   "cell_type": "markdown",
   "id": "a1f50e58",
   "metadata": {
    "id": "e86c3188"
   },
   "source": [
    "### Check if cuda is available here"
   ]
  },
  {
   "cell_type": "code",
   "execution_count": 13,
   "id": "97baf8fc",
   "metadata": {
    "id": "d8e7ec23"
   },
   "outputs": [],
   "source": [
    "# set your active device to your GPU in this cell\n",
    "torch.cuda.set_device(GPU)"
   ]
  },
  {
   "cell_type": "code",
   "execution_count": 14,
   "id": "1c93aa9b",
   "metadata": {
    "id": "1e5ddf20"
   },
   "outputs": [],
   "source": [
    "# enable algorithm optimization\n",
    "cudnn.benchmark = True"
   ]
  },
  {
   "cell_type": "markdown",
   "id": "819b48ba",
   "metadata": {
    "id": "7cdd6e12"
   },
   "source": [
    "### Fill in the heart of the train section below"
   ]
  },
  {
   "cell_type": "code",
   "execution_count": 15,
   "id": "967d4464",
   "metadata": {
    "id": "70dbd4c4"
   },
   "outputs": [],
   "source": [
    "def train(train_loader, model, criterion, optimizer, epoch):\n",
    "    batch_time = AverageMeter('Time', ':6.3f')\n",
    "    data_time = AverageMeter('Data', ':6.3f')\n",
    "    losses = AverageMeter('Loss', ':.4e')\n",
    "    top1 = AverageMeter('Acc@1', ':6.2f')\n",
    "    top5 = AverageMeter('Acc@5', ':6.2f')\n",
    "    progress = ProgressMeter(\n",
    "        len(train_loader),\n",
    "        [batch_time, data_time, losses, top1, top5],\n",
    "        prefix=\"Epoch: [{}]\".format(epoch))\n",
    "\n",
    "    # Grad Scaler\n",
    "    scaler = GradScaler()\n",
    "    # switch to train mode\n",
    "    model.train()\n",
    "\n",
    "    end = time.time()\n",
    "    for i, (images, target) in enumerate(train_loader):\n",
    "        # measure data loading time\n",
    "        data_time.update(time.time() - end)\n",
    "\n",
    "        if GPU is not None:\n",
    "            images = images.cuda(GPU, non_blocking=True)\n",
    "        if torch.cuda.is_available():\n",
    "            target = target.cuda(GPU, non_blocking=True)\n",
    "\n",
    "        # compute output\n",
    "        with autocast():\n",
    "          output = model(images)\n",
    "          loss = criterion(output, target)\n",
    "\n",
    "        # measure accuracy and record loss\n",
    "        acc1, acc5 = accuracy(output, target, topk=(1, 5))\n",
    "        losses.update(loss.item(), images.size(0))\n",
    "        top1.update(acc1[0], images.size(0))\n",
    "        top5.update(acc5[0], images.size(0))\n",
    "\n",
    "        # compute gradient and do SGD step\n",
    "        # optimizer.zero_grad()\n",
    "        # loss.backward()\n",
    "        # optimizer.step()\n",
    "        \n",
    "        # use the scaler\n",
    "        scaler.scale(loss).backward()\n",
    "        scaler.step(optimizer)\n",
    "        scaler.update()\n",
    "\n",
    "        # measure elapsed time\n",
    "        batch_time.update(time.time() - end)\n",
    "        end = time.time()\n",
    "        wandb.log({\"Loss/train\": loss, 'acc1/train': top1.avg, 'acc5/train': top5.avg})\n",
    "\n",
    "        if i % PRINT_FREQ == 0:\n",
    "            progress.display(i)"
   ]
  },
  {
   "cell_type": "markdown",
   "id": "68d243c4",
   "metadata": {
    "id": "deb3b62e"
   },
   "source": [
    "#### Fill in the validate section below"
   ]
  },
  {
   "cell_type": "code",
   "execution_count": 16,
   "id": "9ae1a870",
   "metadata": {
    "id": "a3f276cc"
   },
   "outputs": [],
   "source": [
    "def validate(val_loader, model, criterion):\n",
    "    batch_time = AverageMeter('Time', ':6.3f')\n",
    "    losses = AverageMeter('Loss', ':.4e')\n",
    "    top1 = AverageMeter('Acc@1', ':6.2f')\n",
    "    top5 = AverageMeter('Acc@5', ':6.2f')\n",
    "    progress = ProgressMeter(\n",
    "        len(val_loader),\n",
    "        [batch_time, losses, top1, top5],\n",
    "        prefix='Test: ')\n",
    "\n",
    "    # switch to evaluate mode\n",
    "    model.eval()\n",
    "\n",
    "    with torch.no_grad():\n",
    "        end = time.time()\n",
    "        for i, (images, target) in enumerate(val_loader):\n",
    "            if GPU is not None:\n",
    "                images = images.cuda(GPU, non_blocking=True)\n",
    "            if torch.cuda.is_available():\n",
    "                target = target.cuda(GPU, non_blocking=True)\n",
    "\n",
    "            # compute output\n",
    "            output = model(images)\n",
    "            loss = criterion(output, target)\n",
    "\n",
    "            # measure accuracy and record loss\n",
    "            acc1, acc5 = accuracy(output, target, topk=(1, 5))\n",
    "            losses.update(loss.item(), images.size(0))\n",
    "            top1.update(acc1[0], images.size(0))\n",
    "            top5.update(acc5[0], images.size(0))\n",
    "\n",
    "            # measure elapsed time\n",
    "            batch_time.update(time.time() - end)\n",
    "            end = time.time()\n",
    "\n",
    "            if i % PRINT_FREQ == 0:\n",
    "                progress.display(i)\n",
    "\n",
    "        # TODO: this should also be done with the ProgressMeter\n",
    "        print(' * Acc@1 {top1.avg:.3f} Acc@5 {top5.avg:.3f}'\n",
    "              .format(top1=top1, top5=top5))\n",
    "\n",
    "    wandb.log({\"Loss/val\": losses.avg, 'acc1/val': top1.avg, 'acc5/val': top5.avg})\n",
    "    return top1.avg"
   ]
  },
  {
   "cell_type": "markdown",
   "id": "974f0451",
   "metadata": {
    "id": "fbe49226"
   },
   "source": [
    "### Save the checkpoint"
   ]
  },
  {
   "cell_type": "code",
   "execution_count": 17,
   "id": "357ce342",
   "metadata": {
    "id": "ff8a4159"
   },
   "outputs": [],
   "source": [
    "def save_checkpoint(state, is_best, filename='checkpoint.pth.tar'):\n",
    "    torch.save(state, filename)\n",
    "    if is_best:\n",
    "        shutil.copyfile(filename, 'model_best.pth.tar')"
   ]
  },
  {
   "cell_type": "code",
   "execution_count": 18,
   "id": "65f445c2",
   "metadata": {
    "id": "1cd7ea3a"
   },
   "outputs": [],
   "source": [
    "class AverageMeter(object):\n",
    "    \"\"\"Computes and stores the average and current value\"\"\"\n",
    "    def __init__(self, name, fmt=':f'):\n",
    "        self.name = name\n",
    "        self.fmt = fmt\n",
    "        self.reset()\n",
    "\n",
    "    def reset(self):\n",
    "        self.val = 0\n",
    "        self.avg = 0\n",
    "        self.sum = 0\n",
    "        self.count = 0\n",
    "\n",
    "    def update(self, val, n=1):\n",
    "        self.val = val\n",
    "        self.sum += val * n\n",
    "        self.count += n\n",
    "        self.avg = self.sum / self.count\n",
    "\n",
    "    def __str__(self):\n",
    "        fmtstr = '{name} {val' + self.fmt + '} ({avg' + self.fmt + '})'\n",
    "        return fmtstr.format(**self.__dict__)"
   ]
  },
  {
   "cell_type": "code",
   "execution_count": 19,
   "id": "041dee7e",
   "metadata": {
    "id": "e1da87ab"
   },
   "outputs": [],
   "source": [
    "class ProgressMeter(object):\n",
    "    def __init__(self, num_batches, meters, prefix=\"\"):\n",
    "        self.batch_fmtstr = self._get_batch_fmtstr(num_batches)\n",
    "        self.meters = meters\n",
    "        self.prefix = prefix\n",
    "\n",
    "    def display(self, batch):\n",
    "        entries = [self.prefix + self.batch_fmtstr.format(batch)]\n",
    "        entries += [str(meter) for meter in self.meters]\n",
    "        print('\\t'.join(entries))\n",
    "\n",
    "    def _get_batch_fmtstr(self, num_batches):\n",
    "        num_digits = len(str(num_batches // 1))\n",
    "        fmt = '{:' + str(num_digits) + 'd}'\n",
    "        return '[' + fmt + '/' + fmt.format(num_batches) + ']'"
   ]
  },
  {
   "cell_type": "code",
   "execution_count": 20,
   "id": "15e9d4a8",
   "metadata": {
    "id": "00211030"
   },
   "outputs": [],
   "source": [
    "# if we are adjusting the LR manually use this\n",
    "def adjust_learning_rate(optimizer, epoch):\n",
    "    \"\"\"Sets the learning rate to the initial LR decayed by 10 every 30 epochs\"\"\"\n",
    "    lr = LR * (0.1 ** (epoch // 30))\n",
    "    for param_group in optimizer.param_groups:\n",
    "        param_group['lr'] = lr"
   ]
  },
  {
   "cell_type": "code",
   "execution_count": 21,
   "id": "c5e10a01",
   "metadata": {
    "id": "da2c1382"
   },
   "outputs": [],
   "source": [
    "def accuracy(output, target, topk=(1,)):\n",
    "    \"\"\"Computes the accuracy over the k top predictions for the specified values of k\"\"\"\n",
    "    with torch.no_grad():\n",
    "        maxk = max(topk)\n",
    "        batch_size = target.size(0)\n",
    "\n",
    "        _, pred = output.topk(maxk, 1, True, True)\n",
    "        pred = pred.t()\n",
    "        correct = pred.eq(target.view(1, -1).expand_as(pred))\n",
    "\n",
    "        res = []\n",
    "        for k in topk:\n",
    "            correct_k = correct[:k].reshape(-1).float().sum(0, keepdim=True)\n",
    "            res.append(correct_k.mul_(100.0 / batch_size))\n",
    "        return res"
   ]
  },
  {
   "cell_type": "code",
   "execution_count": 22,
   "id": "2a84d9bf",
   "metadata": {
    "id": "47dd3e49"
   },
   "outputs": [],
   "source": [
    "# IMG_SIZE = 224\n",
    "NUM_CLASSES = 11"
   ]
  },
  {
   "cell_type": "markdown",
   "id": "a0d2d54b",
   "metadata": {
    "id": "de4387cb"
   },
   "source": [
    "### Initialize the model using the architecture you selected above"
   ]
  },
  {
   "cell_type": "code",
   "execution_count": 23,
   "id": "255062be",
   "metadata": {
    "id": "b1abcc33"
   },
   "outputs": [
    {
     "data": {
      "text/plain": [
       "ResNet(\n",
       "  (conv1): Conv2d(3, 64, kernel_size=(7, 7), stride=(2, 2), padding=(3, 3), bias=False)\n",
       "  (bn1): BatchNorm2d(64, eps=1e-05, momentum=0.1, affine=True, track_running_stats=True)\n",
       "  (relu): ReLU(inplace=True)\n",
       "  (maxpool): MaxPool2d(kernel_size=3, stride=2, padding=1, dilation=1, ceil_mode=False)\n",
       "  (layer1): Sequential(\n",
       "    (0): BasicBlock(\n",
       "      (conv1): Conv2d(64, 64, kernel_size=(3, 3), stride=(1, 1), padding=(1, 1), bias=False)\n",
       "      (bn1): BatchNorm2d(64, eps=1e-05, momentum=0.1, affine=True, track_running_stats=True)\n",
       "      (relu): ReLU(inplace=True)\n",
       "      (conv2): Conv2d(64, 64, kernel_size=(3, 3), stride=(1, 1), padding=(1, 1), bias=False)\n",
       "      (bn2): BatchNorm2d(64, eps=1e-05, momentum=0.1, affine=True, track_running_stats=True)\n",
       "    )\n",
       "    (1): BasicBlock(\n",
       "      (conv1): Conv2d(64, 64, kernel_size=(3, 3), stride=(1, 1), padding=(1, 1), bias=False)\n",
       "      (bn1): BatchNorm2d(64, eps=1e-05, momentum=0.1, affine=True, track_running_stats=True)\n",
       "      (relu): ReLU(inplace=True)\n",
       "      (conv2): Conv2d(64, 64, kernel_size=(3, 3), stride=(1, 1), padding=(1, 1), bias=False)\n",
       "      (bn2): BatchNorm2d(64, eps=1e-05, momentum=0.1, affine=True, track_running_stats=True)\n",
       "    )\n",
       "  )\n",
       "  (layer2): Sequential(\n",
       "    (0): BasicBlock(\n",
       "      (conv1): Conv2d(64, 128, kernel_size=(3, 3), stride=(2, 2), padding=(1, 1), bias=False)\n",
       "      (bn1): BatchNorm2d(128, eps=1e-05, momentum=0.1, affine=True, track_running_stats=True)\n",
       "      (relu): ReLU(inplace=True)\n",
       "      (conv2): Conv2d(128, 128, kernel_size=(3, 3), stride=(1, 1), padding=(1, 1), bias=False)\n",
       "      (bn2): BatchNorm2d(128, eps=1e-05, momentum=0.1, affine=True, track_running_stats=True)\n",
       "      (downsample): Sequential(\n",
       "        (0): Conv2d(64, 128, kernel_size=(1, 1), stride=(2, 2), bias=False)\n",
       "        (1): BatchNorm2d(128, eps=1e-05, momentum=0.1, affine=True, track_running_stats=True)\n",
       "      )\n",
       "    )\n",
       "    (1): BasicBlock(\n",
       "      (conv1): Conv2d(128, 128, kernel_size=(3, 3), stride=(1, 1), padding=(1, 1), bias=False)\n",
       "      (bn1): BatchNorm2d(128, eps=1e-05, momentum=0.1, affine=True, track_running_stats=True)\n",
       "      (relu): ReLU(inplace=True)\n",
       "      (conv2): Conv2d(128, 128, kernel_size=(3, 3), stride=(1, 1), padding=(1, 1), bias=False)\n",
       "      (bn2): BatchNorm2d(128, eps=1e-05, momentum=0.1, affine=True, track_running_stats=True)\n",
       "    )\n",
       "  )\n",
       "  (layer3): Sequential(\n",
       "    (0): BasicBlock(\n",
       "      (conv1): Conv2d(128, 256, kernel_size=(3, 3), stride=(2, 2), padding=(1, 1), bias=False)\n",
       "      (bn1): BatchNorm2d(256, eps=1e-05, momentum=0.1, affine=True, track_running_stats=True)\n",
       "      (relu): ReLU(inplace=True)\n",
       "      (conv2): Conv2d(256, 256, kernel_size=(3, 3), stride=(1, 1), padding=(1, 1), bias=False)\n",
       "      (bn2): BatchNorm2d(256, eps=1e-05, momentum=0.1, affine=True, track_running_stats=True)\n",
       "      (downsample): Sequential(\n",
       "        (0): Conv2d(128, 256, kernel_size=(1, 1), stride=(2, 2), bias=False)\n",
       "        (1): BatchNorm2d(256, eps=1e-05, momentum=0.1, affine=True, track_running_stats=True)\n",
       "      )\n",
       "    )\n",
       "    (1): BasicBlock(\n",
       "      (conv1): Conv2d(256, 256, kernel_size=(3, 3), stride=(1, 1), padding=(1, 1), bias=False)\n",
       "      (bn1): BatchNorm2d(256, eps=1e-05, momentum=0.1, affine=True, track_running_stats=True)\n",
       "      (relu): ReLU(inplace=True)\n",
       "      (conv2): Conv2d(256, 256, kernel_size=(3, 3), stride=(1, 1), padding=(1, 1), bias=False)\n",
       "      (bn2): BatchNorm2d(256, eps=1e-05, momentum=0.1, affine=True, track_running_stats=True)\n",
       "    )\n",
       "  )\n",
       "  (layer4): Sequential(\n",
       "    (0): BasicBlock(\n",
       "      (conv1): Conv2d(256, 512, kernel_size=(3, 3), stride=(2, 2), padding=(1, 1), bias=False)\n",
       "      (bn1): BatchNorm2d(512, eps=1e-05, momentum=0.1, affine=True, track_running_stats=True)\n",
       "      (relu): ReLU(inplace=True)\n",
       "      (conv2): Conv2d(512, 512, kernel_size=(3, 3), stride=(1, 1), padding=(1, 1), bias=False)\n",
       "      (bn2): BatchNorm2d(512, eps=1e-05, momentum=0.1, affine=True, track_running_stats=True)\n",
       "      (downsample): Sequential(\n",
       "        (0): Conv2d(256, 512, kernel_size=(1, 1), stride=(2, 2), bias=False)\n",
       "        (1): BatchNorm2d(512, eps=1e-05, momentum=0.1, affine=True, track_running_stats=True)\n",
       "      )\n",
       "    )\n",
       "    (1): BasicBlock(\n",
       "      (conv1): Conv2d(512, 512, kernel_size=(3, 3), stride=(1, 1), padding=(1, 1), bias=False)\n",
       "      (bn1): BatchNorm2d(512, eps=1e-05, momentum=0.1, affine=True, track_running_stats=True)\n",
       "      (relu): ReLU(inplace=True)\n",
       "      (conv2): Conv2d(512, 512, kernel_size=(3, 3), stride=(1, 1), padding=(1, 1), bias=False)\n",
       "      (bn2): BatchNorm2d(512, eps=1e-05, momentum=0.1, affine=True, track_running_stats=True)\n",
       "    )\n",
       "  )\n",
       "  (avgpool): AdaptiveAvgPool2d(output_size=(1, 1))\n",
       "  (fc): Linear(in_features=512, out_features=11, bias=True)\n",
       ")"
      ]
     },
     "execution_count": 23,
     "metadata": {},
     "output_type": "execute_result"
    }
   ],
   "source": [
    "# select the model\n",
    "model = models.__dict__[ARCH]()\n",
    "inf = model.fc.in_features\n",
    "model.fc = nn.Linear(inf, NUM_CLASSES)\n",
    "model.cuda(GPU)"
   ]
  },
  {
   "cell_type": "markdown",
   "id": "27cd0367",
   "metadata": {
    "id": "47a8eb8d"
   },
   "source": [
    "### Instantiate the loss to cross entropy"
   ]
  },
  {
   "cell_type": "code",
   "execution_count": 24,
   "id": "c7a0ebe2",
   "metadata": {
    "id": "a49ae3c9"
   },
   "outputs": [],
   "source": [
    "# use the cross-entropy loss\n",
    "criterion = nn.CrossEntropyLoss().cuda(GPU)"
   ]
  },
  {
   "cell_type": "markdown",
   "id": "f8c00a0a",
   "metadata": {
    "id": "8a49045a"
   },
   "source": [
    "### Instantiate the optimizer to SGD"
   ]
  },
  {
   "cell_type": "code",
   "execution_count": 25,
   "id": "372e6cf7",
   "metadata": {
    "id": "aa3a04dd"
   },
   "outputs": [],
   "source": [
    "# use SGD .. use the momentum and weight decay vars\n",
    "optimizer = torch.optim.SGD(model.parameters(), LR,\n",
    "                                momentum=MOMENTUM,\n",
    "                                weight_decay=WEIGHT_DECAY)"
   ]
  },
  {
   "cell_type": "markdown",
   "id": "bfc3a016",
   "metadata": {
    "id": "f93ef11d"
   },
   "source": [
    "#### Create the learning rate scheduler"
   ]
  },
  {
   "cell_type": "code",
   "execution_count": 26,
   "id": "801bea75",
   "metadata": {
    "id": "a0e1727a"
   },
   "outputs": [],
   "source": [
    "# use CosineAnnealingLR\n",
    "scheduler = torch.optim.lr_scheduler.CosineAnnealingLR(optimizer, T_max=EPOCHS)"
   ]
  },
  {
   "cell_type": "markdown",
   "id": "e007cbc7",
   "metadata": {
    "id": "236528e1"
   },
   "source": [
    "### Create the train and val dataloaders"
   ]
  },
  {
   "cell_type": "code",
   "execution_count": 27,
   "id": "dee862e7",
   "metadata": {},
   "outputs": [],
   "source": [
    "# Access the data loaders directly from the modules.\n",
    "train_loader = dm.train_dataloader()\n",
    "val_loader = dm.val_dataloader()"
   ]
  },
  {
   "cell_type": "code",
   "execution_count": 28,
   "id": "ba42ade4",
   "metadata": {},
   "outputs": [],
   "source": [
    "best_acc1 = 0"
   ]
  },
  {
   "cell_type": "code",
   "execution_count": 30,
   "id": "8698813c",
   "metadata": {
    "colab": {
     "base_uri": "https://localhost:8080/",
     "height": 398
    },
    "id": "0d0620a6",
    "outputId": "ce3794a4-3382-475b-af18-6323939f98ab"
   },
   "outputs": [
    {
     "name": "stdout",
     "output_type": "stream",
     "text": [
      "Epoch: [0][  0/161]\tTime  0.521 ( 0.521)\tData  0.431 ( 0.431)\tLoss 2.3440e+00 (2.3440e+00)\tAcc@1  15.62 ( 15.62)\tAcc@5  62.50 ( 62.50)\n",
      "Epoch: [0][ 50/161]\tTime  0.064 ( 0.073)\tData  0.006 ( 0.014)\tLoss 2.0654e+00 (2.2350e+00)\tAcc@1  37.50 ( 21.26)\tAcc@5  59.38 ( 59.93)\n",
      "Epoch: [0][100/161]\tTime  0.064 ( 0.068)\tData  0.007 ( 0.010)\tLoss 2.4998e+00 (2.2529e+00)\tAcc@1   9.38 ( 19.80)\tAcc@5  50.00 ( 60.02)\n",
      "Epoch: [0][150/161]\tTime  0.063 ( 0.067)\tData  0.006 ( 0.009)\tLoss 2.1978e+00 (2.2502e+00)\tAcc@1  25.00 ( 19.89)\tAcc@5  65.62 ( 59.98)\n",
      "Test: [ 0/41]\tTime  0.454 ( 0.454)\tLoss 2.3724e+00 (2.3724e+00)\tAcc@1  15.62 ( 15.62)\tAcc@5  43.75 ( 43.75)\n",
      " * Acc@1 18.033 Acc@5 57.611\n",
      "lr: 0.049999999999999996\n",
      "Epoch: [1][  0/161]\tTime  0.470 ( 0.470)\tData  0.400 ( 0.400)\tLoss 2.0798e+00 (2.0798e+00)\tAcc@1  18.75 ( 18.75)\tAcc@5  75.00 ( 75.00)\n",
      "Epoch: [1][ 50/161]\tTime  0.063 ( 0.072)\tData  0.006 ( 0.014)\tLoss 2.1295e+00 (2.2538e+00)\tAcc@1  25.00 ( 19.42)\tAcc@5  81.25 ( 60.85)\n",
      "Epoch: [1][100/161]\tTime  0.064 ( 0.068)\tData  0.006 ( 0.010)\tLoss 2.2383e+00 (2.2212e+00)\tAcc@1  18.75 ( 21.04)\tAcc@5  68.75 ( 61.85)\n",
      "Epoch: [1][150/161]\tTime  0.063 ( 0.066)\tData  0.006 ( 0.009)\tLoss 2.3766e+00 (2.1860e+00)\tAcc@1  18.75 ( 22.79)\tAcc@5  56.25 ( 64.03)\n",
      "Test: [ 0/41]\tTime  0.417 ( 0.417)\tLoss 2.2803e+00 (2.2803e+00)\tAcc@1  15.62 ( 15.62)\tAcc@5  62.50 ( 62.50)\n",
      " * Acc@1 24.590 Acc@5 68.072\n",
      "lr: 0.10000000000000002\n",
      "Epoch: [2][  0/161]\tTime  0.473 ( 0.473)\tData  0.397 ( 0.397)\tLoss 2.0993e+00 (2.0993e+00)\tAcc@1  37.50 ( 37.50)\tAcc@5  81.25 ( 81.25)\n",
      "Epoch: [2][ 50/161]\tTime  0.064 ( 0.073)\tData  0.006 ( 0.014)\tLoss 2.3263e+00 (2.0886e+00)\tAcc@1   9.38 ( 24.51)\tAcc@5  56.25 ( 70.40)\n",
      "Epoch: [2][100/161]\tTime  0.064 ( 0.069)\tData  0.006 ( 0.010)\tLoss 1.8972e+00 (2.0721e+00)\tAcc@1  18.75 ( 24.91)\tAcc@5  78.12 ( 70.33)\n",
      "Epoch: [2][150/161]\tTime  0.063 ( 0.067)\tData  0.006 ( 0.009)\tLoss 2.0039e+00 (2.0461e+00)\tAcc@1  28.12 ( 26.20)\tAcc@5  65.62 ( 71.30)\n",
      "Test: [ 0/41]\tTime  0.463 ( 0.463)\tLoss 2.2079e+00 (2.2079e+00)\tAcc@1   9.38 (  9.38)\tAcc@5  65.62 ( 65.62)\n",
      " * Acc@1 26.932 Acc@5 70.648\n",
      "lr: 0.050000000000000024\n",
      "Epoch: [3][  0/161]\tTime  0.456 ( 0.456)\tData  0.389 ( 0.389)\tLoss 1.9501e+00 (1.9501e+00)\tAcc@1  25.00 ( 25.00)\tAcc@5  78.12 ( 78.12)\n",
      "Epoch: [3][ 50/161]\tTime  0.064 ( 0.072)\tData  0.006 ( 0.014)\tLoss 1.9877e+00 (1.9220e+00)\tAcc@1  28.12 ( 31.74)\tAcc@5  68.75 ( 75.12)\n",
      "Epoch: [3][100/161]\tTime  0.065 ( 0.068)\tData  0.006 ( 0.010)\tLoss 1.8682e+00 (1.8671e+00)\tAcc@1  34.38 ( 33.88)\tAcc@5  75.00 ( 76.95)\n",
      "Epoch: [3][150/161]\tTime  0.064 ( 0.067)\tData  0.006 ( 0.009)\tLoss 1.7448e+00 (1.8374e+00)\tAcc@1  37.50 ( 34.58)\tAcc@5  84.38 ( 78.08)\n",
      "Test: [ 0/41]\tTime  0.457 ( 0.457)\tLoss 2.4279e+00 (2.4279e+00)\tAcc@1  28.12 ( 28.12)\tAcc@5  68.75 ( 68.75)\n",
      " * Acc@1 32.006 Acc@5 74.473\n",
      "lr: 0.0\n",
      "Epoch: [4][  0/161]\tTime  0.462 ( 0.462)\tData  0.403 ( 0.403)\tLoss 2.1022e+00 (2.1022e+00)\tAcc@1  15.62 ( 15.62)\tAcc@5  90.62 ( 90.62)\n",
      "Epoch: [4][ 50/161]\tTime  0.064 ( 0.073)\tData  0.006 ( 0.014)\tLoss 1.6146e+00 (1.7621e+00)\tAcc@1  37.50 ( 36.89)\tAcc@5  78.12 ( 81.00)\n",
      "Epoch: [4][100/161]\tTime  0.064 ( 0.069)\tData  0.006 ( 0.010)\tLoss 1.5726e+00 (1.7528e+00)\tAcc@1  43.75 ( 38.61)\tAcc@5  81.25 ( 80.75)\n",
      "Epoch: [4][150/161]\tTime  0.065 ( 0.068)\tData  0.006 ( 0.009)\tLoss 1.7560e+00 (1.7478e+00)\tAcc@1  43.75 ( 38.74)\tAcc@5  84.38 ( 81.19)\n",
      "Test: [ 0/41]\tTime  0.426 ( 0.426)\tLoss 2.2284e+00 (2.2284e+00)\tAcc@1  28.12 ( 28.12)\tAcc@5  71.88 ( 71.88)\n",
      " * Acc@1 35.753 Acc@5 80.328\n",
      "lr: 0.049999999999999996\n",
      "Epoch: [5][  0/161]\tTime  0.448 ( 0.448)\tData  0.375 ( 0.375)\tLoss 1.6977e+00 (1.6977e+00)\tAcc@1  37.50 ( 37.50)\tAcc@5  90.62 ( 90.62)\n",
      "Epoch: [5][ 50/161]\tTime  0.065 ( 0.073)\tData  0.006 ( 0.013)\tLoss 1.4950e+00 (1.7009e+00)\tAcc@1  50.00 ( 39.22)\tAcc@5  93.75 ( 79.72)\n",
      "Epoch: [5][100/161]\tTime  0.065 ( 0.069)\tData  0.006 ( 0.010)\tLoss 1.7247e+00 (1.7147e+00)\tAcc@1  40.62 ( 39.42)\tAcc@5  90.62 ( 81.00)\n",
      "Epoch: [5][150/161]\tTime  0.065 ( 0.068)\tData  0.006 ( 0.008)\tLoss 1.1941e+00 (1.6972e+00)\tAcc@1  56.25 ( 39.38)\tAcc@5  96.88 ( 81.75)\n",
      "Test: [ 0/41]\tTime  0.452 ( 0.452)\tLoss 2.2026e+00 (2.2026e+00)\tAcc@1  31.25 ( 31.25)\tAcc@5  68.75 ( 68.75)\n",
      " * Acc@1 32.553 Acc@5 78.454\n",
      "lr: 0.10000000000000003\n",
      "Epoch: [6][  0/161]\tTime  0.504 ( 0.504)\tData  0.444 ( 0.444)\tLoss 1.4596e+00 (1.4596e+00)\tAcc@1  56.25 ( 56.25)\tAcc@5  87.50 ( 87.50)\n",
      "Epoch: [6][ 50/161]\tTime  0.064 ( 0.074)\tData  0.006 ( 0.015)\tLoss 1.5854e+00 (1.7652e+00)\tAcc@1  43.75 ( 37.01)\tAcc@5  84.38 ( 82.29)\n",
      "Epoch: [6][100/161]\tTime  0.066 ( 0.069)\tData  0.006 ( 0.010)\tLoss 1.9520e+00 (1.7106e+00)\tAcc@1  37.50 ( 39.85)\tAcc@5  78.12 ( 83.38)\n",
      "Epoch: [6][150/161]\tTime  0.066 ( 0.068)\tData  0.006 ( 0.009)\tLoss 2.0315e+00 (1.6897e+00)\tAcc@1  34.38 ( 40.46)\tAcc@5  78.12 ( 84.00)\n",
      "Test: [ 0/41]\tTime  0.458 ( 0.458)\tLoss 2.4987e+00 (2.4987e+00)\tAcc@1  21.88 ( 21.88)\tAcc@5  68.75 ( 68.75)\n",
      " * Acc@1 23.185 Acc@5 65.886\n",
      "lr: 0.05000000000000004\n",
      "Epoch: [7][  0/161]\tTime  0.474 ( 0.474)\tData  0.404 ( 0.404)\tLoss 2.1447e+00 (2.1447e+00)\tAcc@1  21.88 ( 21.88)\tAcc@5  71.88 ( 71.88)\n",
      "Epoch: [7][ 50/161]\tTime  0.065 ( 0.074)\tData  0.006 ( 0.014)\tLoss 1.6486e+00 (1.6190e+00)\tAcc@1  46.88 ( 42.03)\tAcc@5  78.12 ( 84.38)\n",
      "Epoch: [7][100/161]\tTime  0.065 ( 0.070)\tData  0.006 ( 0.010)\tLoss 1.3553e+00 (1.5404e+00)\tAcc@1  46.88 ( 45.20)\tAcc@5  87.50 ( 86.39)\n",
      "Epoch: [7][150/161]\tTime  0.064 ( 0.068)\tData  0.006 ( 0.009)\tLoss 1.3488e+00 (1.5003e+00)\tAcc@1  50.00 ( 46.46)\tAcc@5  87.50 ( 87.50)\n",
      "Test: [ 0/41]\tTime  0.422 ( 0.422)\tLoss 1.9696e+00 (1.9696e+00)\tAcc@1  40.62 ( 40.62)\tAcc@5  81.25 ( 81.25)\n",
      " * Acc@1 42.935 Acc@5 87.432\n",
      "lr: 0.0\n",
      "Epoch: [8][  0/161]\tTime  0.457 ( 0.457)\tData  0.393 ( 0.393)\tLoss 1.3049e+00 (1.3049e+00)\tAcc@1  53.12 ( 53.12)\tAcc@5  96.88 ( 96.88)\n",
      "Epoch: [8][ 50/161]\tTime  0.066 ( 0.074)\tData  0.006 ( 0.014)\tLoss 1.1534e+00 (1.3361e+00)\tAcc@1  62.50 ( 53.55)\tAcc@5  93.75 ( 91.42)\n",
      "Epoch: [8][100/161]\tTime  0.066 ( 0.070)\tData  0.006 ( 0.010)\tLoss 1.2171e+00 (1.3428e+00)\tAcc@1  62.50 ( 53.06)\tAcc@5  90.62 ( 91.18)\n",
      "Epoch: [8][150/161]\tTime  0.065 ( 0.068)\tData  0.006 ( 0.009)\tLoss 1.4544e+00 (1.3540e+00)\tAcc@1  50.00 ( 52.05)\tAcc@5  93.75 ( 91.04)\n",
      "Test: [ 0/41]\tTime  0.420 ( 0.420)\tLoss 1.9238e+00 (1.9238e+00)\tAcc@1  40.62 ( 40.62)\tAcc@5  81.25 ( 81.25)\n",
      " * Acc@1 48.165 Acc@5 89.461\n",
      "lr: 0.049999999999999996\n",
      "Epoch: [9][  0/161]\tTime  0.487 ( 0.487)\tData  0.411 ( 0.411)\tLoss 1.1424e+00 (1.1424e+00)\tAcc@1  53.12 ( 53.12)\tAcc@5  96.88 ( 96.88)\n",
      "Epoch: [9][ 50/161]\tTime  0.065 ( 0.074)\tData  0.006 ( 0.014)\tLoss 1.2242e+00 (1.3783e+00)\tAcc@1  56.25 ( 50.12)\tAcc@5  93.75 ( 90.69)\n",
      "Epoch: [9][100/161]\tTime  0.067 ( 0.070)\tData  0.007 ( 0.010)\tLoss 1.4348e+00 (1.3389e+00)\tAcc@1  50.00 ( 51.95)\tAcc@5  90.62 ( 92.17)\n",
      "Epoch: [9][150/161]\tTime  0.065 ( 0.068)\tData  0.006 ( 0.009)\tLoss 1.6243e+00 (1.3383e+00)\tAcc@1  37.50 ( 51.90)\tAcc@5  84.38 ( 92.30)\n",
      "Test: [ 0/41]\tTime  0.383 ( 0.383)\tLoss 1.7913e+00 (1.7913e+00)\tAcc@1  37.50 ( 37.50)\tAcc@5  84.38 ( 84.38)\n",
      " * Acc@1 38.173 Acc@5 79.781\n",
      "lr: 0.10000000000000024\n",
      "Epoch: [10][  0/161]\tTime  0.484 ( 0.484)\tData  0.422 ( 0.422)\tLoss 1.4190e+00 (1.4190e+00)\tAcc@1  46.88 ( 46.88)\tAcc@5  78.12 ( 78.12)\n",
      "Epoch: [10][ 50/161]\tTime  0.066 ( 0.074)\tData  0.006 ( 0.014)\tLoss 1.5085e+00 (1.3080e+00)\tAcc@1  46.88 ( 53.98)\tAcc@5  93.75 ( 92.59)\n",
      "Epoch: [10][100/161]\tTime  0.064 ( 0.070)\tData  0.006 ( 0.010)\tLoss 1.3928e+00 (1.3591e+00)\tAcc@1  50.00 ( 52.69)\tAcc@5  93.75 ( 91.99)\n",
      "Epoch: [10][150/161]\tTime  0.066 ( 0.069)\tData  0.006 ( 0.009)\tLoss 1.2653e+00 (1.3370e+00)\tAcc@1  50.00 ( 53.44)\tAcc@5  90.62 ( 92.51)\n",
      "Test: [ 0/41]\tTime  0.454 ( 0.454)\tLoss 2.6446e+00 (2.6446e+00)\tAcc@1  21.88 ( 21.88)\tAcc@5  81.25 ( 81.25)\n",
      " * Acc@1 34.973 Acc@5 83.607\n",
      "lr: 0.05000000000000007\n",
      "Epoch: [11][  0/161]\tTime  0.480 ( 0.480)\tData  0.413 ( 0.413)\tLoss 1.3254e+00 (1.3254e+00)\tAcc@1  59.38 ( 59.38)\tAcc@5  87.50 ( 87.50)\n",
      "Epoch: [11][ 50/161]\tTime  0.066 ( 0.074)\tData  0.006 ( 0.014)\tLoss 7.4488e-01 (1.0314e+00)\tAcc@1  71.88 ( 65.62)\tAcc@5 100.00 ( 95.83)\n",
      "Epoch: [11][100/161]\tTime  0.066 ( 0.070)\tData  0.006 ( 0.010)\tLoss 1.4415e+00 (9.8079e-01)\tAcc@1  53.12 ( 66.89)\tAcc@5  93.75 ( 96.26)\n",
      "Epoch: [11][150/161]\tTime  0.066 ( 0.069)\tData  0.006 ( 0.009)\tLoss 9.6514e-01 (9.7169e-01)\tAcc@1  65.62 ( 67.45)\tAcc@5  96.88 ( 96.27)\n",
      "Test: [ 0/41]\tTime  0.460 ( 0.460)\tLoss 9.9437e-01 (9.9437e-01)\tAcc@1  65.62 ( 65.62)\tAcc@5 100.00 (100.00)\n",
      " * Acc@1 67.994 Acc@5 96.331\n",
      "lr: 0.0\n",
      "Epoch: [12][  0/161]\tTime  0.507 ( 0.507)\tData  0.427 ( 0.427)\tLoss 5.7065e-01 (5.7065e-01)\tAcc@1  81.25 ( 81.25)\tAcc@5 100.00 (100.00)\n",
      "Epoch: [12][ 50/161]\tTime  0.066 ( 0.075)\tData  0.006 ( 0.014)\tLoss 9.2858e-01 (7.5468e-01)\tAcc@1  71.88 ( 76.53)\tAcc@5 100.00 ( 97.98)\n",
      "Epoch: [12][100/161]\tTime  0.066 ( 0.071)\tData  0.006 ( 0.010)\tLoss 8.1886e-01 (7.4436e-01)\tAcc@1  75.00 ( 76.70)\tAcc@5 100.00 ( 98.14)\n",
      "Epoch: [12][150/161]\tTime  0.067 ( 0.069)\tData  0.006 ( 0.009)\tLoss 7.2773e-01 (7.6083e-01)\tAcc@1  71.88 ( 75.56)\tAcc@5 100.00 ( 98.03)\n",
      "Test: [ 0/41]\tTime  0.452 ( 0.452)\tLoss 9.0109e-01 (9.0109e-01)\tAcc@1  71.88 ( 71.88)\tAcc@5 100.00 (100.00)\n",
      " * Acc@1 69.633 Acc@5 97.190\n",
      "lr: 0.049999999999999996\n",
      "Epoch: [13][  0/161]\tTime  0.473 ( 0.473)\tData  0.397 ( 0.397)\tLoss 5.2273e-01 (5.2273e-01)\tAcc@1  90.62 ( 90.62)\tAcc@5 100.00 (100.00)\n",
      "Epoch: [13][ 50/161]\tTime  0.066 ( 0.074)\tData  0.006 ( 0.014)\tLoss 1.2399e+00 (7.3890e-01)\tAcc@1  62.50 ( 75.06)\tAcc@5 100.00 ( 98.47)\n",
      "Epoch: [13][100/161]\tTime  0.067 ( 0.070)\tData  0.006 ( 0.010)\tLoss 8.1376e-01 (7.5379e-01)\tAcc@1  75.00 ( 74.26)\tAcc@5  96.88 ( 98.48)\n",
      "Epoch: [13][150/161]\tTime  0.065 ( 0.069)\tData  0.006 ( 0.009)\tLoss 6.0327e-01 (7.6640e-01)\tAcc@1  81.25 ( 73.84)\tAcc@5  96.88 ( 98.12)\n",
      "Test: [ 0/41]\tTime  0.486 ( 0.486)\tLoss 1.6720e+00 (1.6720e+00)\tAcc@1  56.25 ( 56.25)\tAcc@5  93.75 ( 93.75)\n",
      " * Acc@1 59.094 Acc@5 95.238\n",
      "lr: 0.10000000000000026\n",
      "Epoch: [14][  0/161]\tTime  0.467 ( 0.467)\tData  0.407 ( 0.407)\tLoss 4.0328e-01 (4.0328e-01)\tAcc@1  90.62 ( 90.62)\tAcc@5 100.00 (100.00)\n",
      "Epoch: [14][ 50/161]\tTime  0.066 ( 0.074)\tData  0.006 ( 0.014)\tLoss 1.1793e+00 (1.0143e+00)\tAcc@1  56.25 ( 65.50)\tAcc@5  96.88 ( 96.45)\n",
      "Epoch: [14][100/161]\tTime  0.067 ( 0.070)\tData  0.007 ( 0.010)\tLoss 7.7023e-01 (9.3107e-01)\tAcc@1  71.88 ( 68.47)\tAcc@5  96.88 ( 97.00)\n",
      "Epoch: [14][150/161]\tTime  0.065 ( 0.069)\tData  0.006 ( 0.009)\tLoss 1.0099e+00 (9.0123e-01)\tAcc@1  59.38 ( 69.47)\tAcc@5  96.88 ( 96.98)\n",
      "Test: [ 0/41]\tTime  0.435 ( 0.435)\tLoss 2.9467e+00 (2.9467e+00)\tAcc@1  12.50 ( 12.50)\tAcc@5  62.50 ( 62.50)\n",
      " * Acc@1 13.115 Acc@5 55.425\n",
      "lr: 0.050000000000000086\n",
      "Epoch: [15][  0/161]\tTime  0.466 ( 0.466)\tData  0.406 ( 0.406)\tLoss 7.0277e-01 (7.0277e-01)\tAcc@1  78.12 ( 78.12)\tAcc@5  93.75 ( 93.75)\n",
      "Epoch: [15][ 50/161]\tTime  0.066 ( 0.074)\tData  0.006 ( 0.014)\tLoss 6.0435e-01 (7.6251e-01)\tAcc@1  78.12 ( 74.69)\tAcc@5 100.00 ( 97.98)\n",
      "Epoch: [15][100/161]\tTime  0.067 ( 0.070)\tData  0.006 ( 0.010)\tLoss 5.4752e-01 (6.3023e-01)\tAcc@1  90.62 ( 79.24)\tAcc@5  93.75 ( 98.55)\n",
      "Epoch: [15][150/161]\tTime  0.066 ( 0.069)\tData  0.006 ( 0.009)\tLoss 4.8310e-01 (5.6262e-01)\tAcc@1  81.25 ( 81.23)\tAcc@5 100.00 ( 98.86)\n",
      "Test: [ 0/41]\tTime  0.419 ( 0.419)\tLoss 1.1661e+00 (1.1661e+00)\tAcc@1  78.12 ( 78.12)\tAcc@5  90.62 ( 90.62)\n",
      " * Acc@1 74.941 Acc@5 97.112\n",
      "lr: 0.0\n",
      "Epoch: [16][  0/161]\tTime  0.497 ( 0.497)\tData  0.423 ( 0.423)\tLoss 2.9698e-01 (2.9698e-01)\tAcc@1  84.38 ( 84.38)\tAcc@5 100.00 (100.00)\n",
      "Epoch: [16][ 50/161]\tTime  0.066 ( 0.075)\tData  0.006 ( 0.014)\tLoss 3.0215e-01 (3.3516e-01)\tAcc@1  93.75 ( 89.34)\tAcc@5 100.00 ( 99.39)\n",
      "Epoch: [16][100/161]\tTime  0.066 ( 0.071)\tData  0.006 ( 0.010)\tLoss 4.6266e-01 (3.3037e-01)\tAcc@1  84.38 ( 89.70)\tAcc@5  96.88 ( 99.41)\n",
      "Epoch: [16][150/161]\tTime  0.067 ( 0.069)\tData  0.006 ( 0.009)\tLoss 2.2090e-01 (3.3425e-01)\tAcc@1  96.88 ( 89.65)\tAcc@5 100.00 ( 99.52)\n",
      "Test: [ 0/41]\tTime  0.456 ( 0.456)\tLoss 7.7847e-01 (7.7847e-01)\tAcc@1  84.38 ( 84.38)\tAcc@5  96.88 ( 96.88)\n",
      " * Acc@1 82.123 Acc@5 99.141\n",
      "lr: 0.049999999999999996\n",
      "Epoch: [17][  0/161]\tTime  0.474 ( 0.474)\tData  0.408 ( 0.408)\tLoss 2.6646e-01 (2.6646e-01)\tAcc@1  90.62 ( 90.62)\tAcc@5 100.00 (100.00)\n",
      "Epoch: [17][ 50/161]\tTime  0.067 ( 0.075)\tData  0.006 ( 0.014)\tLoss 5.6679e-01 (4.1810e-01)\tAcc@1  75.00 ( 86.03)\tAcc@5  96.88 ( 99.63)\n",
      "Epoch: [17][100/161]\tTime  0.067 ( 0.071)\tData  0.006 ( 0.010)\tLoss 3.6215e-01 (3.6113e-01)\tAcc@1  87.50 ( 88.21)\tAcc@5 100.00 ( 99.69)\n",
      "Epoch: [17][150/161]\tTime  0.067 ( 0.069)\tData  0.006 ( 0.009)\tLoss 3.1313e-01 (3.4761e-01)\tAcc@1  90.62 ( 88.64)\tAcc@5 100.00 ( 99.67)\n",
      "Test: [ 0/41]\tTime  0.495 ( 0.495)\tLoss 1.3309e+00 (1.3309e+00)\tAcc@1  75.00 ( 75.00)\tAcc@5  90.62 ( 90.62)\n",
      " * Acc@1 63.700 Acc@5 95.004\n",
      "lr: 0.10000000000000028\n",
      "Epoch: [18][  0/161]\tTime  0.439 ( 0.439)\tData  0.378 ( 0.378)\tLoss 2.6715e-01 (2.6715e-01)\tAcc@1  90.62 ( 90.62)\tAcc@5 100.00 (100.00)\n",
      "Epoch: [18][ 50/161]\tTime  0.066 ( 0.075)\tData  0.006 ( 0.014)\tLoss 3.2049e-01 (3.4779e-01)\tAcc@1  90.62 ( 88.36)\tAcc@5 100.00 ( 99.63)\n",
      "Epoch: [18][100/161]\tTime  0.067 ( 0.071)\tData  0.007 ( 0.010)\tLoss 8.9619e-01 (4.8459e-01)\tAcc@1  71.88 ( 83.82)\tAcc@5 100.00 ( 99.20)\n",
      "Epoch: [18][150/161]\tTime  0.066 ( 0.069)\tData  0.006 ( 0.009)\tLoss 1.0160e+00 (4.8459e-01)\tAcc@1  65.62 ( 83.65)\tAcc@5 100.00 ( 99.21)\n",
      "Test: [ 0/41]\tTime  0.452 ( 0.452)\tLoss 7.1112e-01 (7.1112e-01)\tAcc@1  78.12 ( 78.12)\tAcc@5  96.88 ( 96.88)\n",
      " * Acc@1 69.711 Acc@5 97.736\n",
      "lr: 0.05000000000000012\n",
      "Epoch: [19][  0/161]\tTime  0.481 ( 0.481)\tData  0.421 ( 0.421)\tLoss 4.5271e-01 (4.5271e-01)\tAcc@1  87.50 ( 87.50)\tAcc@5 100.00 (100.00)\n",
      "Epoch: [19][ 50/161]\tTime  0.066 ( 0.075)\tData  0.006 ( 0.015)\tLoss 1.3764e-01 (2.6942e-01)\tAcc@1  96.88 ( 91.36)\tAcc@5 100.00 ( 99.82)\n",
      "Epoch: [19][100/161]\tTime  0.066 ( 0.071)\tData  0.006 ( 0.010)\tLoss 1.5371e-01 (2.1206e-01)\tAcc@1  93.75 ( 93.56)\tAcc@5 100.00 ( 99.88)\n",
      "Epoch: [19][150/161]\tTime  0.067 ( 0.070)\tData  0.006 ( 0.009)\tLoss 1.6805e-01 (1.9295e-01)\tAcc@1  90.62 ( 94.21)\tAcc@5 100.00 ( 99.92)\n",
      "Test: [ 0/41]\tTime  0.459 ( 0.459)\tLoss 1.0374e+00 (1.0374e+00)\tAcc@1  81.25 ( 81.25)\tAcc@5  93.75 ( 93.75)\n",
      " * Acc@1 80.640 Acc@5 99.141\n",
      "lr: 0.0\n",
      "Epoch: [20][  0/161]\tTime  0.496 ( 0.496)\tData  0.431 ( 0.431)\tLoss 6.3019e-02 (6.3019e-02)\tAcc@1  96.88 ( 96.88)\tAcc@5 100.00 (100.00)\n",
      "Epoch: [20][ 50/161]\tTime  0.066 ( 0.075)\tData  0.006 ( 0.014)\tLoss 1.9345e-01 (9.0298e-02)\tAcc@1  93.75 ( 97.73)\tAcc@5 100.00 ( 99.94)\n",
      "Epoch: [20][100/161]\tTime  0.066 ( 0.071)\tData  0.006 ( 0.010)\tLoss 5.5121e-02 (8.6822e-02)\tAcc@1 100.00 ( 97.87)\tAcc@5 100.00 ( 99.88)\n",
      "Epoch: [20][150/161]\tTime  0.066 ( 0.070)\tData  0.006 ( 0.009)\tLoss 1.3039e-01 (8.8765e-02)\tAcc@1  96.88 ( 97.87)\tAcc@5 100.00 ( 99.92)\n",
      "Test: [ 0/41]\tTime  0.478 ( 0.478)\tLoss 4.5863e-01 (4.5863e-01)\tAcc@1  87.50 ( 87.50)\tAcc@5  96.88 ( 96.88)\n",
      " * Acc@1 89.461 Acc@5 99.688\n",
      "lr: 0.049999999999999996\n",
      "Epoch: [21][  0/161]\tTime  0.514 ( 0.514)\tData  0.434 ( 0.434)\tLoss 1.1602e-01 (1.1602e-01)\tAcc@1  96.88 ( 96.88)\tAcc@5 100.00 (100.00)\n",
      "Epoch: [21][ 50/161]\tTime  0.068 ( 0.076)\tData  0.008 ( 0.014)\tLoss 1.7038e-02 (5.9831e-02)\tAcc@1 100.00 ( 98.90)\tAcc@5 100.00 (100.00)\n",
      "Epoch: [21][100/161]\tTime  0.066 ( 0.071)\tData  0.006 ( 0.010)\tLoss 1.1414e-01 (7.1626e-02)\tAcc@1  96.88 ( 98.14)\tAcc@5 100.00 ( 99.97)\n",
      "Epoch: [21][150/161]\tTime  0.067 ( 0.070)\tData  0.006 ( 0.009)\tLoss 4.6628e-02 (7.3594e-02)\tAcc@1 100.00 ( 97.93)\tAcc@5 100.00 ( 99.98)\n",
      "Test: [ 0/41]\tTime  0.422 ( 0.422)\tLoss 8.9525e-01 (8.9525e-01)\tAcc@1  81.25 ( 81.25)\tAcc@5  96.88 ( 96.88)\n",
      " * Acc@1 79.703 Acc@5 98.595\n",
      "lr: 0.10000000000000032\n",
      "Epoch: [22][  0/161]\tTime  0.512 ( 0.512)\tData  0.445 ( 0.445)\tLoss 6.7737e-02 (6.7737e-02)\tAcc@1  96.88 ( 96.88)\tAcc@5 100.00 (100.00)\n",
      "Epoch: [22][ 50/161]\tTime  0.067 ( 0.076)\tData  0.006 ( 0.014)\tLoss 1.3012e+00 (5.9095e-01)\tAcc@1  71.88 ( 81.62)\tAcc@5 100.00 ( 98.96)\n",
      "Epoch: [22][100/161]\tTime  0.066 ( 0.071)\tData  0.006 ( 0.010)\tLoss 4.5116e-01 (4.8096e-01)\tAcc@1  84.38 ( 84.50)\tAcc@5 100.00 ( 99.38)\n",
      "Epoch: [22][150/161]\tTime  0.066 ( 0.070)\tData  0.006 ( 0.009)\tLoss 4.6486e-01 (4.3391e-01)\tAcc@1  84.38 ( 86.01)\tAcc@5 100.00 ( 99.52)\n",
      "Test: [ 0/41]\tTime  0.465 ( 0.465)\tLoss 2.0411e+00 (2.0411e+00)\tAcc@1  56.25 ( 56.25)\tAcc@5  93.75 ( 93.75)\n",
      " * Acc@1 64.715 Acc@5 96.175\n",
      "lr: 0.05000000000000015\n",
      "Epoch: [23][  0/161]\tTime  0.507 ( 0.507)\tData  0.430 ( 0.430)\tLoss 7.4922e-01 (7.4922e-01)\tAcc@1  78.12 ( 78.12)\tAcc@5 100.00 (100.00)\n",
      "Epoch: [23][ 50/161]\tTime  0.066 ( 0.076)\tData  0.006 ( 0.014)\tLoss 1.1530e-02 (1.4325e-01)\tAcc@1 100.00 ( 95.89)\tAcc@5 100.00 ( 99.82)\n",
      "Epoch: [23][100/161]\tTime  0.067 ( 0.071)\tData  0.006 ( 0.010)\tLoss 1.2119e-02 (1.0381e-01)\tAcc@1 100.00 ( 97.18)\tAcc@5 100.00 ( 99.91)\n",
      "Epoch: [23][150/161]\tTime  0.065 ( 0.070)\tData  0.006 ( 0.009)\tLoss 2.2989e-01 (9.0651e-02)\tAcc@1  90.62 ( 97.54)\tAcc@5 100.00 ( 99.94)\n",
      "Test: [ 0/41]\tTime  0.472 ( 0.472)\tLoss 3.6881e-01 (3.6881e-01)\tAcc@1  87.50 ( 87.50)\tAcc@5 100.00 (100.00)\n",
      " * Acc@1 88.837 Acc@5 99.219\n",
      "lr: 0.0\n",
      "Epoch: [24][  0/161]\tTime  0.474 ( 0.474)\tData  0.391 ( 0.391)\tLoss 3.9123e-02 (3.9123e-02)\tAcc@1 100.00 (100.00)\tAcc@5 100.00 (100.00)\n",
      "Epoch: [24][ 50/161]\tTime  0.067 ( 0.075)\tData  0.006 ( 0.014)\tLoss 2.0719e-02 (2.9366e-02)\tAcc@1 100.00 ( 99.57)\tAcc@5 100.00 (100.00)\n",
      "Epoch: [24][100/161]\tTime  0.066 ( 0.071)\tData  0.006 ( 0.010)\tLoss 9.3300e-02 (3.1257e-02)\tAcc@1  96.88 ( 99.50)\tAcc@5 100.00 (100.00)\n",
      "Epoch: [24][150/161]\tTime  0.066 ( 0.070)\tData  0.006 ( 0.009)\tLoss 8.8950e-03 (3.2783e-02)\tAcc@1 100.00 ( 99.40)\tAcc@5 100.00 (100.00)\n",
      "Test: [ 0/41]\tTime  0.479 ( 0.479)\tLoss 2.6051e-01 (2.6051e-01)\tAcc@1  90.62 ( 90.62)\tAcc@5 100.00 (100.00)\n",
      " * Acc@1 91.959 Acc@5 99.688\n",
      "lr: 0.049999999999999996\n",
      "Epoch: [25][  0/161]\tTime  0.476 ( 0.476)\tData  0.411 ( 0.411)\tLoss 9.1578e-03 (9.1578e-03)\tAcc@1 100.00 (100.00)\tAcc@5 100.00 (100.00)\n",
      "Epoch: [25][ 50/161]\tTime  0.067 ( 0.075)\tData  0.006 ( 0.014)\tLoss 2.0748e-02 (1.8966e-02)\tAcc@1 100.00 ( 99.94)\tAcc@5 100.00 (100.00)\n",
      "Epoch: [25][100/161]\tTime  0.066 ( 0.071)\tData  0.006 ( 0.010)\tLoss 4.6654e-02 (2.2015e-02)\tAcc@1 100.00 ( 99.66)\tAcc@5 100.00 (100.00)\n",
      "Epoch: [25][150/161]\tTime  0.067 ( 0.070)\tData  0.006 ( 0.009)\tLoss 5.0339e-02 (2.1938e-02)\tAcc@1 100.00 ( 99.65)\tAcc@5 100.00 (100.00)\n",
      "Test: [ 0/41]\tTime  0.455 ( 0.455)\tLoss 3.3494e-01 (3.3494e-01)\tAcc@1  90.62 ( 90.62)\tAcc@5 100.00 (100.00)\n",
      " * Acc@1 91.257 Acc@5 99.532\n",
      "lr: 0.10000000000000035\n",
      "Epoch: [26][  0/161]\tTime  0.477 ( 0.477)\tData  0.415 ( 0.415)\tLoss 1.9573e-02 (1.9573e-02)\tAcc@1 100.00 (100.00)\tAcc@5 100.00 (100.00)\n",
      "Epoch: [26][ 50/161]\tTime  0.071 ( 0.075)\tData  0.008 ( 0.014)\tLoss 7.7168e-02 (1.2444e-01)\tAcc@1  96.88 ( 95.96)\tAcc@5 100.00 ( 99.94)\n",
      "Epoch: [26][100/161]\tTime  0.066 ( 0.071)\tData  0.006 ( 0.010)\tLoss 4.8717e-02 (1.1326e-01)\tAcc@1  96.88 ( 96.32)\tAcc@5 100.00 ( 99.94)\n",
      "Epoch: [26][150/161]\tTime  0.067 ( 0.070)\tData  0.006 ( 0.009)\tLoss 9.5951e-02 (1.3347e-01)\tAcc@1 100.00 ( 95.45)\tAcc@5 100.00 ( 99.94)\n",
      "Test: [ 0/41]\tTime  0.462 ( 0.462)\tLoss 6.7310e-01 (6.7310e-01)\tAcc@1  78.12 ( 78.12)\tAcc@5  96.88 ( 96.88)\n",
      " * Acc@1 66.354 Acc@5 97.112\n",
      "lr: 0.050000000000000176\n",
      "Epoch: [27][  0/161]\tTime  0.492 ( 0.492)\tData  0.431 ( 0.431)\tLoss 1.9882e-01 (1.9882e-01)\tAcc@1  96.88 ( 96.88)\tAcc@5 100.00 (100.00)\n",
      "Epoch: [27][ 50/161]\tTime  0.067 ( 0.076)\tData  0.006 ( 0.014)\tLoss 2.8799e-01 (1.4011e-01)\tAcc@1  93.75 ( 95.47)\tAcc@5 100.00 ( 99.94)\n",
      "Epoch: [27][100/161]\tTime  0.067 ( 0.071)\tData  0.006 ( 0.010)\tLoss 9.9759e-02 (9.6298e-02)\tAcc@1  96.88 ( 97.15)\tAcc@5 100.00 ( 99.97)\n",
      "Epoch: [27][150/161]\tTime  0.066 ( 0.070)\tData  0.006 ( 0.009)\tLoss 9.7090e-03 (7.5132e-02)\tAcc@1 100.00 ( 97.83)\tAcc@5 100.00 ( 99.98)\n",
      "Test: [ 0/41]\tTime  0.487 ( 0.487)\tLoss 4.4429e-01 (4.4429e-01)\tAcc@1  87.50 ( 87.50)\tAcc@5  96.88 ( 96.88)\n",
      " * Acc@1 85.636 Acc@5 98.595\n",
      "lr: 0.0\n",
      "Epoch: [28][  0/161]\tTime  0.464 ( 0.464)\tData  0.402 ( 0.402)\tLoss 1.4275e-02 (1.4275e-02)\tAcc@1 100.00 (100.00)\tAcc@5 100.00 (100.00)\n",
      "Epoch: [28][ 50/161]\tTime  0.066 ( 0.075)\tData  0.006 ( 0.014)\tLoss 5.2000e-03 (1.6803e-02)\tAcc@1 100.00 ( 99.75)\tAcc@5 100.00 (100.00)\n",
      "Epoch: [28][100/161]\tTime  0.066 ( 0.071)\tData  0.006 ( 0.010)\tLoss 4.0716e-02 (1.8275e-02)\tAcc@1 100.00 ( 99.69)\tAcc@5 100.00 (100.00)\n",
      "Epoch: [28][150/161]\tTime  0.066 ( 0.070)\tData  0.006 ( 0.009)\tLoss 1.1858e-02 (1.8191e-02)\tAcc@1 100.00 ( 99.69)\tAcc@5 100.00 (100.00)\n",
      "Test: [ 0/41]\tTime  0.470 ( 0.470)\tLoss 1.9825e-01 (1.9825e-01)\tAcc@1  93.75 ( 93.75)\tAcc@5 100.00 (100.00)\n",
      " * Acc@1 91.413 Acc@5 99.375\n",
      "lr: 0.049999999999999996\n",
      "Epoch: [29][  0/161]\tTime  0.480 ( 0.480)\tData  0.420 ( 0.420)\tLoss 1.4490e-02 (1.4490e-02)\tAcc@1 100.00 (100.00)\tAcc@5 100.00 (100.00)\n",
      "Epoch: [29][ 50/161]\tTime  0.065 ( 0.075)\tData  0.006 ( 0.014)\tLoss 8.3300e-03 (1.4220e-02)\tAcc@1 100.00 ( 99.69)\tAcc@5 100.00 (100.00)\n",
      "Epoch: [29][100/161]\tTime  0.066 ( 0.071)\tData  0.006 ( 0.010)\tLoss 5.2876e-03 (1.1811e-02)\tAcc@1 100.00 ( 99.81)\tAcc@5 100.00 (100.00)\n",
      "Epoch: [29][150/161]\tTime  0.066 ( 0.069)\tData  0.006 ( 0.009)\tLoss 1.6905e-03 (1.0472e-02)\tAcc@1 100.00 ( 99.83)\tAcc@5 100.00 (100.00)\n",
      "Test: [ 0/41]\tTime  0.433 ( 0.433)\tLoss 2.2990e-01 (2.2990e-01)\tAcc@1  93.75 ( 93.75)\tAcc@5 100.00 (100.00)\n",
      " * Acc@1 92.818 Acc@5 99.532\n",
      "lr: 0.10000000000000037\n",
      "CPU times: user 5min 41s, sys: 42.6 s, total: 6min 23s\n",
      "Wall time: 6min 43s\n"
     ]
    }
   ],
   "source": [
    "%%time\n",
    "for epoch in range(START_EPOCH, 30):\n",
    "#    adjust_learning_rate(optimizer, epoch)\n",
    "\n",
    "    # train for one epoch\n",
    "    train(train_loader, model, criterion, optimizer, epoch)\n",
    "\n",
    "    # evaluate on validation set\n",
    "    acc1 = validate(val_loader, model, criterion)\n",
    "\n",
    "    # remember best acc@1 and save checkpoint\n",
    "    is_best = acc1 > best_acc1\n",
    "    best_acc1 = max(acc1, best_acc1)\n",
    "\n",
    "\n",
    "    save_checkpoint({\n",
    "        'epoch': epoch + 1,\n",
    "        'arch': ARCH,\n",
    "        'state_dict': model.state_dict(),\n",
    "        'best_acc1': best_acc1,\n",
    "        'optimizer' : optimizer.state_dict(),\n",
    "    }, is_best)\n",
    "    \n",
    "    scheduler.step()\n",
    "    print('lr: ' + str(scheduler.get_last_lr()[0]))"
   ]
  },
  {
   "cell_type": "code",
   "execution_count": 31,
   "id": "2848e5b4",
   "metadata": {},
   "outputs": [
    {
     "data": {
      "text/html": [
       "Waiting for W&B process to finish... <strong style=\"color:green\">(success).</strong>"
      ],
      "text/plain": [
       "<IPython.core.display.HTML object>"
      ]
     },
     "metadata": {},
     "output_type": "display_data"
    },
    {
     "data": {
      "text/html": [
       "<style>\n",
       "    table.wandb td:nth-child(1) { padding: 0 10px; text-align: left ; width: auto;} td:nth-child(2) {text-align: left ; width: 100%}\n",
       "    .wandb-row { display: flex; flex-direction: row; flex-wrap: wrap; justify-content: flex-start; width: 100% }\n",
       "    .wandb-col { display: flex; flex-direction: column; flex-basis: 100%; flex: 1; padding: 10px; }\n",
       "    </style>\n",
       "<div class=\"wandb-row\"><div class=\"wandb-col\"><h3>Run history:</h3><br/><table class=\"wandb\"><tr><td>Loss/train</td><td>██▇█▇▇▆▅▆▅▆▆▅▅▅▅▃▃▃▃▃▅▂▂▂▂▂▁▁▁▃▂▁▁▁▁▂▁▁▁</td></tr><tr><td>Loss/val</td><td>▆▆▆▆▆▆▅▅▆▄▄▅▆▃▃▄█▃▂▄▃▂▁▂▄▁▁▁▄▂▁▁</td></tr><tr><td>acc1/train</td><td>▁▁▁▂▂▂▂▃▃▃▃▃▄▄▄▄▅▅▆▆▅▅▇▇▇▇▇███▆▇████▇███</td></tr><tr><td>acc1/val</td><td>▁▁▁▂▂▃▃▃▂▄▄▃▃▆▆▅▁▆▇▅▆▇█▇▆███▆▇██</td></tr><tr><td>acc5/train</td><td>▁▂▂▃▃▄▅▅▅▅▆▆▆▇▇▇▇▇██████████████████████</td></tr><tr><td>acc5/val</td><td>▁▂▂▃▄▄▅▅▃▆▆▅▆██▇▁██▇████▇███████</td></tr></table><br/></div><div class=\"wandb-col\"><h3>Run summary:</h3><br/><table class=\"wandb\"><tr><td>Loss/train</td><td>0.03374</td></tr><tr><td>Loss/val</td><td>0.25562</td></tr><tr><td>acc1/train</td><td>99.82436</td></tr><tr><td>acc1/val</td><td>92.81811</td></tr><tr><td>acc5/train</td><td>100.0</td></tr><tr><td>acc5/val</td><td>99.53162</td></tr></table><br/></div></div>"
      ],
      "text/plain": [
       "<IPython.core.display.HTML object>"
      ]
     },
     "metadata": {},
     "output_type": "display_data"
    },
    {
     "data": {
      "text/html": [
       "Synced <strong style=\"color:#cdcd00\">lemon-bush-1</strong>: <a href=\"https://wandb.ai/251-summer-22/W251-Draft-Models/runs/b92xpa17\" target=\"_blank\">https://wandb.ai/251-summer-22/W251-Draft-Models/runs/b92xpa17</a><br/>Synced 5 W&B file(s), 0 media file(s), 0 artifact file(s) and 0 other file(s)"
      ],
      "text/plain": [
       "<IPython.core.display.HTML object>"
      ]
     },
     "metadata": {},
     "output_type": "display_data"
    },
    {
     "data": {
      "text/html": [
       "Find logs at: <code>./wandb/run-20220621_033428-b92xpa17/logs</code>"
      ],
      "text/plain": [
       "<IPython.core.display.HTML object>"
      ]
     },
     "metadata": {},
     "output_type": "display_data"
    }
   ],
   "source": [
    "wandb.finish()"
   ]
  },
  {
   "cell_type": "code",
   "execution_count": null,
   "id": "167dab80",
   "metadata": {},
   "outputs": [],
   "source": []
  }
 ],
 "metadata": {
  "accelerator": "GPU",
  "colab": {
   "collapsed_sections": [],
   "include_colab_link": true,
   "name": "lab05.ipynb",
   "provenance": []
  },
  "kernelspec": {
   "display_name": "Python 3 (ipykernel)",
   "language": "python",
   "name": "python3"
  },
  "language_info": {
   "codemirror_mode": {
    "name": "ipython",
    "version": 3
   },
   "file_extension": ".py",
   "mimetype": "text/x-python",
   "name": "python",
   "nbconvert_exporter": "python",
   "pygments_lexer": "ipython3",
   "version": "3.8.13"
  },
  "widgets": {
   "application/vnd.jupyter.widget-state+json": {
    "18607c1151304f35bdb30eabfce5e4e9": {
     "model_module": "@jupyter-widgets/controls",
     "model_module_version": "1.5.0",
     "model_name": "HBoxModel",
     "state": {
      "_dom_classes": [],
      "_model_module": "@jupyter-widgets/controls",
      "_model_module_version": "1.5.0",
      "_model_name": "HBoxModel",
      "_view_count": null,
      "_view_module": "@jupyter-widgets/controls",
      "_view_module_version": "1.5.0",
      "_view_name": "HBoxView",
      "box_style": "",
      "children": [
       "IPY_MODEL_4a94df481ad74487a86d9d30b3cd0862",
       "IPY_MODEL_8006399c23c44b12ae40c31eacc14f51",
       "IPY_MODEL_eafcb49056714a6e88c3a77bce00b532"
      ],
      "layout": "IPY_MODEL_2bb3231b62b04d35be6bb100ce978309"
     }
    },
    "2bb3231b62b04d35be6bb100ce978309": {
     "model_module": "@jupyter-widgets/base",
     "model_module_version": "1.2.0",
     "model_name": "LayoutModel",
     "state": {
      "_model_module": "@jupyter-widgets/base",
      "_model_module_version": "1.2.0",
      "_model_name": "LayoutModel",
      "_view_count": null,
      "_view_module": "@jupyter-widgets/base",
      "_view_module_version": "1.2.0",
      "_view_name": "LayoutView",
      "align_content": null,
      "align_items": null,
      "align_self": null,
      "border": null,
      "bottom": null,
      "display": null,
      "flex": null,
      "flex_flow": null,
      "grid_area": null,
      "grid_auto_columns": null,
      "grid_auto_flow": null,
      "grid_auto_rows": null,
      "grid_column": null,
      "grid_gap": null,
      "grid_row": null,
      "grid_template_areas": null,
      "grid_template_columns": null,
      "grid_template_rows": null,
      "height": null,
      "justify_content": null,
      "justify_items": null,
      "left": null,
      "margin": null,
      "max_height": null,
      "max_width": null,
      "min_height": null,
      "min_width": null,
      "object_fit": null,
      "object_position": null,
      "order": null,
      "overflow": null,
      "overflow_x": null,
      "overflow_y": null,
      "padding": null,
      "right": null,
      "top": null,
      "visibility": null,
      "width": null
     }
    },
    "33f23c4001e748e198a95c161e9c9108": {
     "model_module": "@jupyter-widgets/base",
     "model_module_version": "1.2.0",
     "model_name": "LayoutModel",
     "state": {
      "_model_module": "@jupyter-widgets/base",
      "_model_module_version": "1.2.0",
      "_model_name": "LayoutModel",
      "_view_count": null,
      "_view_module": "@jupyter-widgets/base",
      "_view_module_version": "1.2.0",
      "_view_name": "LayoutView",
      "align_content": null,
      "align_items": null,
      "align_self": null,
      "border": null,
      "bottom": null,
      "display": null,
      "flex": null,
      "flex_flow": null,
      "grid_area": null,
      "grid_auto_columns": null,
      "grid_auto_flow": null,
      "grid_auto_rows": null,
      "grid_column": null,
      "grid_gap": null,
      "grid_row": null,
      "grid_template_areas": null,
      "grid_template_columns": null,
      "grid_template_rows": null,
      "height": null,
      "justify_content": null,
      "justify_items": null,
      "left": null,
      "margin": null,
      "max_height": null,
      "max_width": null,
      "min_height": null,
      "min_width": null,
      "object_fit": null,
      "object_position": null,
      "order": null,
      "overflow": null,
      "overflow_x": null,
      "overflow_y": null,
      "padding": null,
      "right": null,
      "top": null,
      "visibility": null,
      "width": null
     }
    },
    "4a94df481ad74487a86d9d30b3cd0862": {
     "model_module": "@jupyter-widgets/controls",
     "model_module_version": "1.5.0",
     "model_name": "HTMLModel",
     "state": {
      "_dom_classes": [],
      "_model_module": "@jupyter-widgets/controls",
      "_model_module_version": "1.5.0",
      "_model_name": "HTMLModel",
      "_view_count": null,
      "_view_module": "@jupyter-widgets/controls",
      "_view_module_version": "1.5.0",
      "_view_name": "HTMLView",
      "description": "",
      "description_tooltip": null,
      "layout": "IPY_MODEL_c442839c2ed847af9c3fa3b1b0f78bc7",
      "placeholder": "​",
      "style": "IPY_MODEL_9bb7b05aa1344652a6c797e02974f2a3",
      "value": ""
     }
    },
    "69a123d40e9542ef9b51b796c2c1e0cd": {
     "model_module": "@jupyter-widgets/base",
     "model_module_version": "1.2.0",
     "model_name": "LayoutModel",
     "state": {
      "_model_module": "@jupyter-widgets/base",
      "_model_module_version": "1.2.0",
      "_model_name": "LayoutModel",
      "_view_count": null,
      "_view_module": "@jupyter-widgets/base",
      "_view_module_version": "1.2.0",
      "_view_name": "LayoutView",
      "align_content": null,
      "align_items": null,
      "align_self": null,
      "border": null,
      "bottom": null,
      "display": null,
      "flex": null,
      "flex_flow": null,
      "grid_area": null,
      "grid_auto_columns": null,
      "grid_auto_flow": null,
      "grid_auto_rows": null,
      "grid_column": null,
      "grid_gap": null,
      "grid_row": null,
      "grid_template_areas": null,
      "grid_template_columns": null,
      "grid_template_rows": null,
      "height": null,
      "justify_content": null,
      "justify_items": null,
      "left": null,
      "margin": null,
      "max_height": null,
      "max_width": null,
      "min_height": null,
      "min_width": null,
      "object_fit": null,
      "object_position": null,
      "order": null,
      "overflow": null,
      "overflow_x": null,
      "overflow_y": null,
      "padding": null,
      "right": null,
      "top": null,
      "visibility": null,
      "width": null
     }
    },
    "6b65c185b43b4abc84ec2a7c5d3926c6": {
     "model_module": "@jupyter-widgets/controls",
     "model_module_version": "1.5.0",
     "model_name": "DescriptionStyleModel",
     "state": {
      "_model_module": "@jupyter-widgets/controls",
      "_model_module_version": "1.5.0",
      "_model_name": "DescriptionStyleModel",
      "_view_count": null,
      "_view_module": "@jupyter-widgets/base",
      "_view_module_version": "1.2.0",
      "_view_name": "StyleView",
      "description_width": ""
     }
    },
    "8006399c23c44b12ae40c31eacc14f51": {
     "model_module": "@jupyter-widgets/controls",
     "model_module_version": "1.5.0",
     "model_name": "FloatProgressModel",
     "state": {
      "_dom_classes": [],
      "_model_module": "@jupyter-widgets/controls",
      "_model_module_version": "1.5.0",
      "_model_name": "FloatProgressModel",
      "_view_count": null,
      "_view_module": "@jupyter-widgets/controls",
      "_view_module_version": "1.5.0",
      "_view_name": "ProgressView",
      "bar_style": "success",
      "description": "",
      "description_tooltip": null,
      "layout": "IPY_MODEL_33f23c4001e748e198a95c161e9c9108",
      "max": 170498071,
      "min": 0,
      "orientation": "horizontal",
      "style": "IPY_MODEL_deaa6486ba4f48f6b47af889faad32a4",
      "value": 170498071
     }
    },
    "9bb7b05aa1344652a6c797e02974f2a3": {
     "model_module": "@jupyter-widgets/controls",
     "model_module_version": "1.5.0",
     "model_name": "DescriptionStyleModel",
     "state": {
      "_model_module": "@jupyter-widgets/controls",
      "_model_module_version": "1.5.0",
      "_model_name": "DescriptionStyleModel",
      "_view_count": null,
      "_view_module": "@jupyter-widgets/base",
      "_view_module_version": "1.2.0",
      "_view_name": "StyleView",
      "description_width": ""
     }
    },
    "c442839c2ed847af9c3fa3b1b0f78bc7": {
     "model_module": "@jupyter-widgets/base",
     "model_module_version": "1.2.0",
     "model_name": "LayoutModel",
     "state": {
      "_model_module": "@jupyter-widgets/base",
      "_model_module_version": "1.2.0",
      "_model_name": "LayoutModel",
      "_view_count": null,
      "_view_module": "@jupyter-widgets/base",
      "_view_module_version": "1.2.0",
      "_view_name": "LayoutView",
      "align_content": null,
      "align_items": null,
      "align_self": null,
      "border": null,
      "bottom": null,
      "display": null,
      "flex": null,
      "flex_flow": null,
      "grid_area": null,
      "grid_auto_columns": null,
      "grid_auto_flow": null,
      "grid_auto_rows": null,
      "grid_column": null,
      "grid_gap": null,
      "grid_row": null,
      "grid_template_areas": null,
      "grid_template_columns": null,
      "grid_template_rows": null,
      "height": null,
      "justify_content": null,
      "justify_items": null,
      "left": null,
      "margin": null,
      "max_height": null,
      "max_width": null,
      "min_height": null,
      "min_width": null,
      "object_fit": null,
      "object_position": null,
      "order": null,
      "overflow": null,
      "overflow_x": null,
      "overflow_y": null,
      "padding": null,
      "right": null,
      "top": null,
      "visibility": null,
      "width": null
     }
    },
    "deaa6486ba4f48f6b47af889faad32a4": {
     "model_module": "@jupyter-widgets/controls",
     "model_module_version": "1.5.0",
     "model_name": "ProgressStyleModel",
     "state": {
      "_model_module": "@jupyter-widgets/controls",
      "_model_module_version": "1.5.0",
      "_model_name": "ProgressStyleModel",
      "_view_count": null,
      "_view_module": "@jupyter-widgets/base",
      "_view_module_version": "1.2.0",
      "_view_name": "StyleView",
      "bar_color": null,
      "description_width": ""
     }
    },
    "eafcb49056714a6e88c3a77bce00b532": {
     "model_module": "@jupyter-widgets/controls",
     "model_module_version": "1.5.0",
     "model_name": "HTMLModel",
     "state": {
      "_dom_classes": [],
      "_model_module": "@jupyter-widgets/controls",
      "_model_module_version": "1.5.0",
      "_model_name": "HTMLModel",
      "_view_count": null,
      "_view_module": "@jupyter-widgets/controls",
      "_view_module_version": "1.5.0",
      "_view_name": "HTMLView",
      "description": "",
      "description_tooltip": null,
      "layout": "IPY_MODEL_69a123d40e9542ef9b51b796c2c1e0cd",
      "placeholder": "​",
      "style": "IPY_MODEL_6b65c185b43b4abc84ec2a7c5d3926c6",
      "value": " 170499072/? [00:02&lt;00:00, 82410754.07it/s]"
     }
    }
   }
  }
 },
 "nbformat": 4,
 "nbformat_minor": 5
}
